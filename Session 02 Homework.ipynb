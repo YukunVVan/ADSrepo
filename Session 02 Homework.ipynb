{
 "cells": [
  {
   "cell_type": "markdown",
   "metadata": {},
   "source": [
    "# ADS 2017. Homework 1"
   ]
  },
  {
   "cell_type": "markdown",
   "metadata": {},
   "source": [
    "### Question (1): (10pt)\n",
    "\n",
    "Suppose that the independent variable $x$ has n observations: $(x_1,x_2,...x_n)$ and the dependent variable $y$ has corresponding observations: $(y_1, y_2,...,y_n)$. If the correlation between these two sequences $corr(x,y)=0.02$, which of the following statements are true? Please select all the right answers.\n",
    "\n",
    "(a) There should be no strong relation between $x$ and $y$.\n",
    "\n",
    "(b) If we build a linear regression between $y$ and $x$ as $y=wx$, we could conclude that the OLS estimation for $w$ should be around 0.02.\n",
    "\n",
    "(c) There could be some strong linear relationship between $x$ and $y$.\n",
    "\n",
    "(d) Certain relation between $x$ and $y$ could still exist, but it should be non-linear."
   ]
  },
  {
   "cell_type": "markdown",
   "metadata": {},
   "source": [
    "### Answer: (d)"
   ]
  },
  {
   "cell_type": "markdown",
   "metadata": {},
   "source": [
    "### Question (2): (10pt)\n",
    "\n"
   ]
  },
  {
   "cell_type": "markdown",
   "metadata": {},
   "source": [
    "Consider a model\n",
    "\n",
    "$y=x^{b}$ where $b>0$. \n",
    "\n",
    "Now, suppose x triples (originally $x>0$). How would y change with respect to this change of x? Let us denote new $y$ as $y'$. Please select all the right answers from below. \n",
    "\n",
    "(a) $y'<3y$ if b is less than one.\n",
    "\n",
    "(b) $y'=3y$ in any case.\n",
    "\n",
    "(c) $y'$ increases by $(2^b-1)*100\\%$.\n",
    "\n",
    "(d) $y'>3y$ if b is bigger than one."
   ]
  },
  {
   "cell_type": "markdown",
   "metadata": {},
   "source": [
    "### (a)(d)"
   ]
  },
  {
   "cell_type": "code",
   "execution_count": 2,
   "metadata": {},
   "outputs": [],
   "source": [
    "import pandas as pd\n",
    "import numpy as np\n",
    "import statsmodels.formula.api as smf\n",
    "import matplotlib.pylab as plt\n",
    "%matplotlib inline\n"
   ]
  },
  {
   "cell_type": "markdown",
   "metadata": {},
   "source": [
    "### Question (3): (30 pt)\n"
   ]
  },
  {
   "cell_type": "code",
   "execution_count": 2,
   "metadata": {},
   "outputs": [],
   "source": [
    "x=[0, 1, 2, 3, 4, 5, 6, 7, 8, 9, 10, 11, 12, 13, 14, 15, 16, 17, 18, 19]"
   ]
  },
  {
   "cell_type": "code",
   "execution_count": 3,
   "metadata": {},
   "outputs": [],
   "source": [
    "y=[14.0, 12.0, 18.0, -4.0, 14.0, 35.0, 45.0, 30.0, 50.0, 54.0, 58.0, \n",
    "   55.0, 57.0, 62.0, 61.0, 83.0, 85.0, 106.0, 105.0, 104.0]"
   ]
  },
  {
   "cell_type": "markdown",
   "metadata": {},
   "source": [
    "#### (a) Calculate corr(x,y) without using a build-in function for the correlation coefficient."
   ]
  },
  {
   "cell_type": "code",
   "execution_count": 4,
   "metadata": {},
   "outputs": [
    {
     "name": "stdout",
     "output_type": "stream",
     "text": [
      "corr(x,y) = 0.956301005112\n"
     ]
    }
   ],
   "source": [
    "X = np.array(x)\n",
    "Y = np.array(y)\n",
    "XY = X * Y\n",
    "\n",
    "correlation_XY = (np.mean(XY) - np.mean(X) * np.mean(Y)) / ( np.std(X) * np.std(Y) )\n",
    "print(\"corr(x,y) = {}\".format(correlation_XY))"
   ]
  },
  {
   "cell_type": "markdown",
   "metadata": {},
   "source": [
    "#### (b) Estimate linear model $y=w_1*x+w_0$ using OLS formulas and without using build-in functions for the linear regression. What is  $w_1$ and $w_0$? What is $R^2$?"
   ]
  },
  {
   "cell_type": "code",
   "execution_count": 5,
   "metadata": {},
   "outputs": [
    {
     "name": "stdout",
     "output_type": "stream",
     "text": [
      "w1 is : 5.28872180451\n",
      "w0 is : 1.95714285714\n",
      "R_2 is : 0.914511612377\n"
     ]
    }
   ],
   "source": [
    "df = pd.DataFrame([X,Y,XY]).T\n",
    "df.columns = [\"x\",\"y\",\"xy\"]\n",
    "df.loc[:,\"x_sqr\"]=df.x*df.x\n",
    "\n",
    "w1=(df.xy.sum()-df.y.sum()*df.x.sum()/len(df))/(df.x_sqr.sum()-df.x.sum()*df.x.sum()/len(df))\n",
    "print(\"w1 is : {}\".format(w1))\n",
    "\n",
    "w0=(df.y-df.x*w1).mean()\n",
    "print(\"w0 is : {}\".format(w0))\n",
    "\n",
    "df.loc[:,\"pred\"]=w1*df.x+w0\n",
    "df.loc[:,\"err\"]=df.y-df.pred\n",
    "\n",
    "R_2=1-(df.err**2).sum()/((df.y-df.y.mean())**2).sum()\n",
    "print(\"R_2 is : {}\".format(R_2))"
   ]
  },
  {
   "cell_type": "markdown",
   "metadata": {},
   "source": [
    "#### (c) Use regression function to double check your answer making sure that your calculation is correct. "
   ]
  },
  {
   "cell_type": "code",
   "execution_count": 6,
   "metadata": {},
   "outputs": [
    {
     "name": "stdout",
     "output_type": "stream",
     "text": [
      "                            OLS Regression Results                            \n",
      "==============================================================================\n",
      "Dep. Variable:                      y   R-squared:                       0.915\n",
      "Model:                            OLS   Adj. R-squared:                  0.910\n",
      "Method:                 Least Squares   F-statistic:                     192.6\n",
      "Date:                Tue, 03 Oct 2017   Prob (F-statistic):           4.71e-11\n",
      "Time:                        18:49:20   Log-Likelihood:                -73.031\n",
      "No. Observations:                  20   AIC:                             150.1\n",
      "Df Residuals:                      18   BIC:                             152.1\n",
      "Df Model:                           1                                         \n",
      "Covariance Type:            nonrobust                                         \n",
      "==============================================================================\n",
      "                 coef    std err          t      P>|t|      [0.025      0.975]\n",
      "------------------------------------------------------------------------------\n",
      "Intercept      1.9571      4.236      0.462      0.650      -6.941      10.856\n",
      "x              5.2887      0.381     13.876      0.000       4.488       6.089\n",
      "==============================================================================\n",
      "Omnibus:                        1.554   Durbin-Watson:                   1.493\n",
      "Prob(Omnibus):                  0.460   Jarque-Bera (JB):                1.245\n",
      "Skew:                          -0.572   Prob(JB):                        0.537\n",
      "Kurtosis:                       2.569   Cond. No.                         21.5\n",
      "==============================================================================\n",
      "\n",
      "Warnings:\n",
      "[1] Standard Errors assume that the covariance matrix of the errors is correctly specified.\n"
     ]
    }
   ],
   "source": [
    "lm = smf.ols(formula='y ~ x', data = df).fit()\n",
    "print lm.summary()"
   ]
  },
  {
   "cell_type": "markdown",
   "metadata": {},
   "source": [
    "### Question (4): (30pt) "
   ]
  },
  {
   "cell_type": "markdown",
   "metadata": {},
   "source": [
    "For the data below estimate a model: AssessTot = w* LotArea (with and without intercept)\n",
    "\n",
    "LotArea: Total area of the tax lot\n",
    "\n",
    "AssessTot: The actual assessed total value of Final Year 2015"
   ]
  },
  {
   "cell_type": "code",
   "execution_count": 3,
   "metadata": {},
   "outputs": [],
   "source": [
    "data_4=pd.read_csv(\"data/Housing_Pluto_Session2.csv\")"
   ]
  },
  {
   "cell_type": "code",
   "execution_count": 4,
   "metadata": {},
   "outputs": [
    {
     "data": {
      "text/html": [
       "<div>\n",
       "<style>\n",
       "    .dataframe thead tr:only-child th {\n",
       "        text-align: right;\n",
       "    }\n",
       "\n",
       "    .dataframe thead th {\n",
       "        text-align: left;\n",
       "    }\n",
       "\n",
       "    .dataframe tbody tr th {\n",
       "        vertical-align: top;\n",
       "    }\n",
       "</style>\n",
       "<table border=\"1\" class=\"dataframe\">\n",
       "  <thead>\n",
       "    <tr style=\"text-align: right;\">\n",
       "      <th></th>\n",
       "      <th>ZipCode</th>\n",
       "      <th>LotArea</th>\n",
       "      <th>AssessTot</th>\n",
       "    </tr>\n",
       "  </thead>\n",
       "  <tbody>\n",
       "    <tr>\n",
       "      <th>0</th>\n",
       "      <td>11201.0</td>\n",
       "      <td>126975</td>\n",
       "      <td>3922200</td>\n",
       "    </tr>\n",
       "    <tr>\n",
       "      <th>1</th>\n",
       "      <td>11201.0</td>\n",
       "      <td>52600</td>\n",
       "      <td>1359900</td>\n",
       "    </tr>\n",
       "    <tr>\n",
       "      <th>2</th>\n",
       "      <td>11201.0</td>\n",
       "      <td>17700</td>\n",
       "      <td>656100</td>\n",
       "    </tr>\n",
       "    <tr>\n",
       "      <th>3</th>\n",
       "      <td>NaN</td>\n",
       "      <td>31200</td>\n",
       "      <td>18326711</td>\n",
       "    </tr>\n",
       "    <tr>\n",
       "      <th>4</th>\n",
       "      <td>11201.0</td>\n",
       "      <td>16307</td>\n",
       "      <td>0</td>\n",
       "    </tr>\n",
       "  </tbody>\n",
       "</table>\n",
       "</div>"
      ],
      "text/plain": [
       "   ZipCode  LotArea  AssessTot\n",
       "0  11201.0   126975    3922200\n",
       "1  11201.0    52600    1359900\n",
       "2  11201.0    17700     656100\n",
       "3      NaN    31200   18326711\n",
       "4  11201.0    16307          0"
      ]
     },
     "execution_count": 4,
     "metadata": {},
     "output_type": "execute_result"
    }
   ],
   "source": [
    "data_4.head()"
   ]
  },
  {
   "cell_type": "markdown",
   "metadata": {},
   "source": [
    "#### (a). As we see, this data set is not clean.  Drop all the rows which contain \"NaN\" and 0 terms."
   ]
  },
  {
   "cell_type": "code",
   "execution_count": 9,
   "metadata": {},
   "outputs": [],
   "source": [
    "data_4 = data_4[data_4['ZipCode']!=0]\n",
    "data_4 = data_4[data_4['LotArea']!=0]\n",
    "data_4 = data_4[data_4['AssessTot']!=0]\n",
    "data_4 = data_4.dropna()"
   ]
  },
  {
   "cell_type": "markdown",
   "metadata": {},
   "source": [
    "#### (b). Visualize the data set."
   ]
  },
  {
   "cell_type": "code",
   "execution_count": 10,
   "metadata": {},
   "outputs": [
    {
     "data": {
      "text/plain": [
       "[<matplotlib.lines.Line2D at 0x1074ec210>]"
      ]
     },
     "execution_count": 10,
     "metadata": {},
     "output_type": "execute_result"
    },
    {
     "data": {
      "image/png": "[encoded data removed]",
      "text/plain": [
       "<matplotlib.figure.Figure at 0x10c711810>"
      ]
     },
     "metadata": {},
     "output_type": "display_data"
    }
   ],
   "source": [
    "plt.plot(data_4.LotArea,data_4.AssessTot,'.')"
   ]
  },
  {
   "cell_type": "markdown",
   "metadata": {},
   "source": [
    "#### (c).  Build a model : AssessTot=$w_1$*LotArea + $w_2$. Get $w_1$, $w_2$ and $R^2$.  Plot your results together with observations. "
   ]
  },
  {
   "cell_type": "code",
   "execution_count": 11,
   "metadata": {},
   "outputs": [
    {
     "name": "stdout",
     "output_type": "stream",
     "text": [
      "w1 = 21.1603050366, w2 = 76868.3913758, R^2 = 0.38447323434\n"
     ]
    }
   ],
   "source": [
    "lm1 = smf.ols(formula='AssessTot ~ LotArea', data = data_4).fit()\n",
    "\n",
    "print(\"w1 = {}, w2 = {}, R^2 = {}\".format(lm1.params[1],lm1.params[0],lm1.rsquared))"
   ]
  },
  {
   "cell_type": "code",
   "execution_count": 12,
   "metadata": {},
   "outputs": [
    {
     "data": {
      "text/plain": [
       "[<matplotlib.lines.Line2D at 0x10c85f690>]"
      ]
     },
     "execution_count": 12,
     "metadata": {},
     "output_type": "execute_result"
    },
    {
     "data": {
      "image/png": "[encoded data removed]",
      "text/plain": [
       "<matplotlib.figure.Figure at 0x108deb5d0>"
      ]
     },
     "metadata": {},
     "output_type": "display_data"
    }
   ],
   "source": [
    "data_4.plot(kind='scatter',x='LotArea',y='AssessTot')\n",
    "plt.plot(data_4.LotArea,lm1.predict(),'r-')"
   ]
  },
  {
   "cell_type": "markdown",
   "metadata": {},
   "source": [
    "#### (d) Repeat (c) without intercept, i.e. with $w_2=0$."
   ]
  },
  {
   "cell_type": "code",
   "execution_count": 13,
   "metadata": {},
   "outputs": [
    {
     "name": "stdout",
     "output_type": "stream",
     "text": [
      "w1 = 21.1739954474, R^2 = 0.384928026064\n"
     ]
    }
   ],
   "source": [
    "lm2 = smf.ols(formula='AssessTot ~ LotArea-1', data = data_4).fit()\n",
    "#lm2.params[0]\n",
    "print(\"w1 = {}, R^2 = {}\".format(lm2.params[0],lm2.rsquared))"
   ]
  },
  {
   "cell_type": "code",
   "execution_count": 14,
   "metadata": {},
   "outputs": [
    {
     "data": {
      "text/plain": [
       "[<matplotlib.lines.Line2D at 0x10c74c690>]"
      ]
     },
     "execution_count": 14,
     "metadata": {},
     "output_type": "execute_result"
    },
    {
     "data": {
      "image/png": "[encoded data removed]",
      "text/plain": [
       "<matplotlib.figure.Figure at 0x10c736950>"
      ]
     },
     "metadata": {},
     "output_type": "display_data"
    }
   ],
   "source": [
    "data_4.plot(kind='scatter',x='LotArea',y='AssessTot')\n",
    "plt.plot(data_4.LotArea,lm2.predict(),'r-')"
   ]
  },
  {
   "cell_type": "markdown",
   "metadata": {
    "collapsed": true
   },
   "source": [
    "### Question (5): (20pt)\n",
    "\n",
    "For the same data as above try the model: log_AssessTot=$w_1$*log_LotArea + $w_2$. Get $w_1$, $w_2$ and $R^2$.  And plot your results together with observations. Explain the result - what does the estimated \"$w_1$\" means to you?"
   ]
  },
  {
   "cell_type": "code",
   "execution_count": 15,
   "metadata": {},
   "outputs": [
    {
     "name": "stdout",
     "output_type": "stream",
     "text": [
      "w1 = 1.32497333191, w2 = 0.208793957478, R^2 = 0.490706561371\n"
     ]
    }
   ],
   "source": [
    "data_4['logAssessTot'] = np.log(data_4['AssessTot'])\n",
    "data_4['logLotArea'] = np.log(data_4['LotArea'])\n",
    "\n",
    "lm3 = smf.ols(formula='logAssessTot ~ logLotArea', data = data_4).fit()\n",
    "\n",
    "print(\"w1 = {}, w2 = {}, R^2 = {}\".format(lm3.params[1],lm3.params[0],lm3.rsquared))"
   ]
  },
  {
   "cell_type": "code",
   "execution_count": 16,
   "metadata": {},
   "outputs": [
    {
     "data": {
      "text/plain": [
       "[<matplotlib.lines.Line2D at 0x10dc780d0>]"
      ]
     },
     "execution_count": 16,
     "metadata": {},
     "output_type": "execute_result"
    },
    {
     "data": {
      "image/png": "[encoded data removed]",
      "text/plain": [
       "<matplotlib.figure.Figure at 0x112c1fc10>"
      ]
     },
     "metadata": {},
     "output_type": "display_data"
    }
   ],
   "source": [
    "data_4.plot(kind='scatter',x='logLotArea',y='logAssessTot')\n",
    "plt.plot(data_4.logLotArea,lm3.predict(),'r-')"
   ]
  },
  {
   "cell_type": "markdown",
   "metadata": {},
   "source": [
    "### w1 is the slope of the model. When slope is too large (like 21), it's difficult for us to see the distribution of samples because the line is so close to x axis. After log the x and the y, the slope changes from 21 to 1.3, which make the distribution more clear.\n",
    "\n",
    "### Because of Log-transformed x and y, now w1 is the percent change in y (the dependent variable), while x (the independent variable) increases by one percent."
   ]
  },
  {
   "cell_type": "code",
   "execution_count": null,
   "metadata": {},
   "outputs": [],
   "source": []
  }
 ],
 "metadata": {
  "kernelspec": {
   "display_name": "Python 2",
   "language": "python",
   "name": "python2"
  },
  "language_info": {
   "codemirror_mode": {
    "name": "ipython",
    "version": 2
   },
   "file_extension": ".py",
   "mimetype": "text/x-python",
   "name": "python",
   "nbconvert_exporter": "python",
   "pygments_lexer": "ipython2",
   "version": "2.7.13"
  }
 },
 "nbformat": 4,
 "nbformat_minor": 1
}
