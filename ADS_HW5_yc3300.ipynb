{
 "cells": [
  {
   "cell_type": "markdown",
   "metadata": {},
   "source": [
    "# IMPORTANT"
   ]
  },
  {
   "cell_type": "code",
   "execution_count": 3,
   "metadata": {
    "collapsed": true
   },
   "outputs": [],
   "source": [
    "# The notebook should be named as ADS_HW5_<net_id>\n",
    "# 10 pts will be deducted if the naming convention is not followed"
   ]
  },
  {
   "cell_type": "markdown",
   "metadata": {},
   "source": [
    "# Task 1 (5 pts) \n",
    "\n",
    "\n",
    "a) Provide a definition for the concept of a conjugate prior given the Bayesian learning model\n",
    "\n",
    "b) True or False:\n",
    "Selecting a Gaussian prior for a likelihood function that is Gaussian, will ensure that the posterior distribution is also Gaussian"
   ]
  },
  {
   "cell_type": "markdown",
   "metadata": {},
   "source": [
    "### Answer: \n",
    "a):\n",
    "In Bayesian probability theory, if the posterior distributions p(θ|x) are in the same family as the prior probability distribution p(θ), the prior and posterior are then called conjugate distributions, and the prior is called a conjugate prior for the likelihood function.       \n",
    "\n",
    "\n",
    "b) True                      \n",
    "The Gaussian family is conjugate to itself (or self-conjugate) with respect to a Gaussian likelihood function: if the likelihood function is Gaussian, choosing a Gaussian prior over the mean will ensure that the posterior distribution is also Gaussian. This means that the Gaussian distribution is a conjugate prior for the likelihood that is also Gaussian."
   ]
  },
  {
   "cell_type": "markdown",
   "metadata": {},
   "source": [
    "# Task 2 (5 pts). \n",
    "\n",
    "\n",
    "1) In the Bayesian linear regression framework (True or False)  \n",
    "    a) Using a Laplacian prior will lead to the Ridge Regression  \n",
    "    b) Using a Laplacian prior will lead to Lasso Regression\n",
    "\n",
    "2) (True or False)  \n",
    "    a) Ridge can often help with feature selection  \n",
    "    b) Lasso can often help with feature selection"
   ]
  },
  {
   "cell_type": "markdown",
   "metadata": {},
   "source": [
    "### Answer: \n",
    "1):      \n",
    "a)  False       \n",
    "b)  True\n",
    "\n",
    "2):    \n",
    "a) False         \n",
    "b) True\n",
    "\n",
    "### Explanation: \n",
    "Ridge Regression shrinks the size the regression coefficients. In linear regression,if there are two correlated features, there coefficients can be poorly determined and have high variance. One of them can have a very large positive coefficient,and the other correlated feature can have a very large negative coefficient. They cancel each other. By adding the ridge penalty, the problem is alleviated, as it shrinks the coefficients towards 0. In the extreme case of k identical features,they each get small identical coefficients. So ridge penalty encourages features to borrow strength from each other. From a Bayesian point of view, the ridge regression estimation assumes that wj has a Gaussian distribution with 0 mean as its prior distribution. And the solution to ridge regression is the mean (or mode) of the posterior distribution.   \n",
    "Lasso behaves differently than Ridge. If there are several correlated features,Lasso tends to pick one and ignore the rest. That is, some features will have coefficients exactly 0. So Lasso can be used to perform continuous feature selection. From a Bayesian point of view, the Lasso penalty corresponds to a Laplace prior"
   ]
  },
  {
   "cell_type": "markdown",
   "metadata": {},
   "source": [
    "# Task 3 (10 pts). \n",
    "Answer some questions about the properties of Lasso/Ridge:\n",
    "\n",
    "1.a) Which regression adds penalty equivalent to square of the magnitude of coefficients?  \n",
    "1.b) Which regression adds penalty  equivalent to absolute value of the magnitude of coefficients?\n",
    "\n",
    "2) Which of the Lasso and Ridge regressions possess an analytic solution in the closed form?\n",
    "\n",
    "3) Which of the Lasso and Ridge regression is often use to completely eliminate coefficients for some of the regressors?\n",
    "\n",
    "4) Which value of $\\lambda$ makes Lasso and Ridge identical to the ordinary least square regression?\n",
    "\n",
    "5) What dataset (training, validation or test) you would use to estimate the $\\lambda$ for Lasso or Ridge?\n",
    "\n",
    "# Extra Credit(50 pts to be applied towards this or any other homework)\n",
    "For a regression where the variables are highly correlated, which would you use, Lasso or Ridge and why?"
   ]
  },
  {
   "cell_type": "markdown",
   "metadata": {},
   "source": [
    "## Task 3 Answer: \n",
    "1a). Ridge   \n",
    "1b). Lasso             \n",
    "2). Ridge regression      \n",
    "Its closed form is β^=inverse(X^T*X+λI)*X^T*Y by imposing a penalty on the regression coefficients, β∈Rp          \n",
    "3). Lasso regression          \n",
    "4). when $\\lambda$ = 0, Lasso and Ridge identical to the ordinary least square regression.     \n",
    "5). Validation because cross validation is adopted\n"
   ]
  },
  {
   "cell_type": "markdown",
   "metadata": {},
   "source": [
    "## Extra Credit Answer:   \n",
    "#### I would choose Ridge Regression.\n",
    "Suppose there are two highly correlated predictor variables x,z, and suppose both are centered and scaled (to mean zero, variance one). Then the ridge penalty on the parameter vector is β21^2+β22^2 while the lasso penalty term is ∣β1∣+∣β2∣. Now, since the model is supposed highly colinear, so that x and z more or less can substitute each other in predicting Y, so many linear combination of x,z where we simply substitite in part x for z, will work very similarly as predictors, for example 0.2x+0.8x,0.3x+0.7z or 0.5x+0.5z will be about equally good as predictors. Now look at these three examples, the lasso penalty in all three cases are equal, it is 1, while the ridge penalty differ, it is respectively 0.68, 0.58, 0.5, so the ridge penalty will prefer equal weighting of colinear variables while lasso penalty will not be able to choose. This is one reason ridge will work better with colinear predictors: When the data give little reason to choose between different linear combinations of colinear predictors, lasso will just \"wander\" while ridge tends to choose equal weighting. \n"
   ]
  },
  {
   "cell_type": "markdown",
   "metadata": {},
   "source": [
    "# Task 4 (15 pts). \n",
    "Consider a Bayesian univariate linear regression $y\\sim {\\cal N}(wx,\\sigma^2)$ with a given $\\sigma=2$ and the prior $w\\sim {\\cal N}(4,2)$. Compute the posterior distribution after an observation $y=14,x=4$. After all, what is the probability of having $w<4$?"
   ]
  },
  {
   "cell_type": "markdown",
   "metadata": {},
   "source": [
    "$$\n",
    "\\sim {\\cal N}\\left(\\frac{ \\sigma^{-2} \\sum_i y_i x_i +(\\sigma^*)^{-2} w^*}{\\left(\\sum_i x_i^2\\sigma^{-2}+(\\sigma^*)^{-2}\\right)},\n",
    "\\frac{1}{\\sqrt{(\\sigma^*)^{-2}+\\sum_i x_i^2\\sigma^{-2}}}\\right)\n",
    "$$"
   ]
  },
  {
   "cell_type": "code",
   "execution_count": 36,
   "metadata": {},
   "outputs": [
    {
     "name": "stdout",
     "output_type": "stream",
     "text": [
      "Populating the interactive namespace from numpy and matplotlib\n"
     ]
    }
   ],
   "source": [
    "import numpy as np\n",
    "import pandas as pd\n",
    "%pylab inline\n",
    "import matplotlib.pyplot as plt\n",
    "#import Quandl\n",
    "import statsmodels.formula.api as smf\n",
    "from scipy import stats\n",
    "from sklearn import linear_model\n",
    "from scipy.stats import norm"
   ]
  },
  {
   "cell_type": "code",
   "execution_count": 37,
   "metadata": {},
   "outputs": [
    {
     "name": "stdout",
     "output_type": "stream",
     "text": [
      "Updated: w~N(3.52941176471, 0.485071250073)\n",
      "p(w>4)=0.834012266459\n"
     ]
    }
   ],
   "source": [
    "def bayes_update(x, y, sigma, w_, sigma_):\n",
    "    x, y = np.array(x), np.array(y)\n",
    "    denom = (x**2).sum() / sigma**2 + 1. / sigma_**2\n",
    "    return (x.dot(y) / sigma**2 + w_ / sigma_**2) / denom, 1. / np.sqrt(denom)\n",
    "\n",
    "mu, sigma = bayes_update(x=[4], y=[14], sigma=2, w_=4, sigma_=2)\n",
    "print('Updated: w~N({}, {})'.format(mu, sigma))\n",
    "print('p(w>4)={}'.format(norm.cdf(4, mu, sigma)))"
   ]
  },
  {
   "cell_type": "code",
   "execution_count": null,
   "metadata": {},
   "outputs": [],
   "source": []
  },
  {
   "cell_type": "code",
   "execution_count": null,
   "metadata": {},
   "outputs": [],
   "source": []
  },
  {
   "cell_type": "markdown",
   "metadata": {},
   "source": [
    "# Task 5 (20 pts)\n",
    "For the training and test sets provided below, train a linear regression of $y$ (last column) vs the rest of the columns of the table treated as regressors (intercept excluded) over the training set, apply it to the test set and report it's R2 performance over both - training and test set."
   ]
  },
  {
   "cell_type": "code",
   "execution_count": 11,
   "metadata": {},
   "outputs": [],
   "source": [
    "## Learn to use numpy - Will be more useful in future\n",
    "import pandas as pd\n",
    "import numpy as np\n",
    "\n",
    "data_train=pd.read_csv(\"HW_train.csv\")\n",
    "data_test=pd.read_csv(\"HW_test.csv\")\n",
    "\n",
    "# Remove unwanted column\n",
    "data_train.drop('Unnamed: 0',axis=1, inplace=True)\n",
    "data_test.drop('Unnamed: 0',axis=1, inplace=True)"
   ]
  },
  {
   "cell_type": "code",
   "execution_count": 12,
   "metadata": {},
   "outputs": [
    {
     "data": {
      "text/html": [
       "<div>\n",
       "<style>\n",
       "    .dataframe thead tr:only-child th {\n",
       "        text-align: right;\n",
       "    }\n",
       "\n",
       "    .dataframe thead th {\n",
       "        text-align: left;\n",
       "    }\n",
       "\n",
       "    .dataframe tbody tr th {\n",
       "        vertical-align: top;\n",
       "    }\n",
       "</style>\n",
       "<table border=\"1\" class=\"dataframe\">\n",
       "  <thead>\n",
       "    <tr style=\"text-align: right;\">\n",
       "      <th></th>\n",
       "      <th>0</th>\n",
       "      <th>1</th>\n",
       "      <th>2</th>\n",
       "      <th>3</th>\n",
       "      <th>4</th>\n",
       "      <th>5</th>\n",
       "      <th>6</th>\n",
       "      <th>7</th>\n",
       "      <th>8</th>\n",
       "      <th>9</th>\n",
       "      <th>...</th>\n",
       "      <th>31</th>\n",
       "      <th>32</th>\n",
       "      <th>33</th>\n",
       "      <th>34</th>\n",
       "      <th>35</th>\n",
       "      <th>36</th>\n",
       "      <th>37</th>\n",
       "      <th>38</th>\n",
       "      <th>39</th>\n",
       "      <th>40</th>\n",
       "    </tr>\n",
       "  </thead>\n",
       "  <tbody>\n",
       "    <tr>\n",
       "      <th>0</th>\n",
       "      <td>96.789835</td>\n",
       "      <td>83.183133</td>\n",
       "      <td>24.177181</td>\n",
       "      <td>31.279398</td>\n",
       "      <td>-49.029524</td>\n",
       "      <td>18.872176</td>\n",
       "      <td>168.942794</td>\n",
       "      <td>94.488018</td>\n",
       "      <td>177.780409</td>\n",
       "      <td>27.695043</td>\n",
       "      <td>...</td>\n",
       "      <td>41.924134</td>\n",
       "      <td>65.876185</td>\n",
       "      <td>35.898562</td>\n",
       "      <td>34.726463</td>\n",
       "      <td>60.166744</td>\n",
       "      <td>22.004965</td>\n",
       "      <td>43.487052</td>\n",
       "      <td>60.069264</td>\n",
       "      <td>63.794491</td>\n",
       "      <td>65.691782</td>\n",
       "    </tr>\n",
       "    <tr>\n",
       "      <th>1</th>\n",
       "      <td>38.829317</td>\n",
       "      <td>35.843956</td>\n",
       "      <td>6.297793</td>\n",
       "      <td>15.523440</td>\n",
       "      <td>-21.995928</td>\n",
       "      <td>5.945662</td>\n",
       "      <td>72.037611</td>\n",
       "      <td>42.709207</td>\n",
       "      <td>75.362195</td>\n",
       "      <td>10.284752</td>\n",
       "      <td>...</td>\n",
       "      <td>73.765030</td>\n",
       "      <td>47.088544</td>\n",
       "      <td>43.625197</td>\n",
       "      <td>1.265374</td>\n",
       "      <td>53.481250</td>\n",
       "      <td>61.989699</td>\n",
       "      <td>22.419371</td>\n",
       "      <td>72.934372</td>\n",
       "      <td>8.783550</td>\n",
       "      <td>48.600203</td>\n",
       "    </tr>\n",
       "    <tr>\n",
       "      <th>2</th>\n",
       "      <td>29.925224</td>\n",
       "      <td>25.328958</td>\n",
       "      <td>0.102627</td>\n",
       "      <td>10.403224</td>\n",
       "      <td>-16.379497</td>\n",
       "      <td>4.272577</td>\n",
       "      <td>54.941945</td>\n",
       "      <td>33.758282</td>\n",
       "      <td>58.327999</td>\n",
       "      <td>5.344682</td>\n",
       "      <td>...</td>\n",
       "      <td>17.970740</td>\n",
       "      <td>28.483208</td>\n",
       "      <td>43.124356</td>\n",
       "      <td>75.088879</td>\n",
       "      <td>16.991777</td>\n",
       "      <td>3.603125</td>\n",
       "      <td>70.197916</td>\n",
       "      <td>45.761354</td>\n",
       "      <td>16.291789</td>\n",
       "      <td>11.967305</td>\n",
       "    </tr>\n",
       "    <tr>\n",
       "      <th>3</th>\n",
       "      <td>33.424303</td>\n",
       "      <td>27.676937</td>\n",
       "      <td>4.533496</td>\n",
       "      <td>12.010908</td>\n",
       "      <td>-18.159244</td>\n",
       "      <td>4.777495</td>\n",
       "      <td>54.333856</td>\n",
       "      <td>31.886517</td>\n",
       "      <td>61.607712</td>\n",
       "      <td>6.907591</td>\n",
       "      <td>...</td>\n",
       "      <td>97.752102</td>\n",
       "      <td>0.751484</td>\n",
       "      <td>20.599931</td>\n",
       "      <td>95.431639</td>\n",
       "      <td>30.861203</td>\n",
       "      <td>22.548684</td>\n",
       "      <td>93.988541</td>\n",
       "      <td>12.820426</td>\n",
       "      <td>47.022745</td>\n",
       "      <td>15.988018</td>\n",
       "    </tr>\n",
       "    <tr>\n",
       "      <th>4</th>\n",
       "      <td>69.816320</td>\n",
       "      <td>61.489566</td>\n",
       "      <td>17.181358</td>\n",
       "      <td>24.093144</td>\n",
       "      <td>-35.745184</td>\n",
       "      <td>13.386441</td>\n",
       "      <td>122.288929</td>\n",
       "      <td>68.878098</td>\n",
       "      <td>128.452555</td>\n",
       "      <td>18.808763</td>\n",
       "      <td>...</td>\n",
       "      <td>70.996612</td>\n",
       "      <td>86.602438</td>\n",
       "      <td>98.127347</td>\n",
       "      <td>5.357836</td>\n",
       "      <td>87.865145</td>\n",
       "      <td>40.298166</td>\n",
       "      <td>86.488322</td>\n",
       "      <td>60.963969</td>\n",
       "      <td>84.368874</td>\n",
       "      <td>53.736157</td>\n",
       "    </tr>\n",
       "  </tbody>\n",
       "</table>\n",
       "<p>5 rows × 41 columns</p>\n",
       "</div>"
      ],
      "text/plain": [
       "           0          1          2          3          4          5  \\\n",
       "0  96.789835  83.183133  24.177181  31.279398 -49.029524  18.872176   \n",
       "1  38.829317  35.843956   6.297793  15.523440 -21.995928   5.945662   \n",
       "2  29.925224  25.328958   0.102627  10.403224 -16.379497   4.272577   \n",
       "3  33.424303  27.676937   4.533496  12.010908 -18.159244   4.777495   \n",
       "4  69.816320  61.489566  17.181358  24.093144 -35.745184  13.386441   \n",
       "\n",
       "            6          7           8          9    ...             31  \\\n",
       "0  168.942794  94.488018  177.780409  27.695043    ...      41.924134   \n",
       "1   72.037611  42.709207   75.362195  10.284752    ...      73.765030   \n",
       "2   54.941945  33.758282   58.327999   5.344682    ...      17.970740   \n",
       "3   54.333856  31.886517   61.607712   6.907591    ...      97.752102   \n",
       "4  122.288929  68.878098  128.452555  18.808763    ...      70.996612   \n",
       "\n",
       "          32         33         34         35         36         37  \\\n",
       "0  65.876185  35.898562  34.726463  60.166744  22.004965  43.487052   \n",
       "1  47.088544  43.625197   1.265374  53.481250  61.989699  22.419371   \n",
       "2  28.483208  43.124356  75.088879  16.991777   3.603125  70.197916   \n",
       "3   0.751484  20.599931  95.431639  30.861203  22.548684  93.988541   \n",
       "4  86.602438  98.127347   5.357836  87.865145  40.298166  86.488322   \n",
       "\n",
       "          38         39         40  \n",
       "0  60.069264  63.794491  65.691782  \n",
       "1  72.934372   8.783550  48.600203  \n",
       "2  45.761354  16.291789  11.967305  \n",
       "3  12.820426  47.022745  15.988018  \n",
       "4  60.963969  84.368874  53.736157  \n",
       "\n",
       "[5 rows x 41 columns]"
      ]
     },
     "execution_count": 12,
     "metadata": {},
     "output_type": "execute_result"
    }
   ],
   "source": [
    "data_train.head()"
   ]
  },
  {
   "cell_type": "code",
   "execution_count": 13,
   "metadata": {},
   "outputs": [],
   "source": [
    "data_train = data_train.add_prefix('x')\n",
    "data_test = data_test.add_prefix('x')\n",
    "data_train.rename(columns = {'x40':'y'},inplace = True)\n",
    "data_test.rename(columns = {'x40':'y'},inplace = True)"
   ]
  },
  {
   "cell_type": "code",
   "execution_count": 14,
   "metadata": {},
   "outputs": [],
   "source": [
    "def modelEval(lm, key = 'y'):\n",
    "    lmy = lm.predict(data_test)\n",
    "    y_err = lmy - data_test[key]\n",
    "    y_norm = data_test[key]-np.mean(data_test[key])\n",
    "    return 1-y_err.dot(y_err)/y_norm.dot(y_norm)  "
   ]
  },
  {
   "cell_type": "code",
   "execution_count": 15,
   "metadata": {},
   "outputs": [
    {
     "name": "stdout",
     "output_type": "stream",
     "text": [
      "In sample R-squared: 1.000000\n",
      "Out of sample R-squared: -1.028031\n"
     ]
    }
   ],
   "source": [
    "result = smf.ols(formula = 'y ~ '+ '+'.join(data_train.columns[:-1]), data = data_train).fit()\n",
    "print('In sample R-squared: %f'%result.rsquared)\n",
    "print('Out of sample R-squared: %f'%modelEval(result))"
   ]
  },
  {
   "cell_type": "code",
   "execution_count": null,
   "metadata": {},
   "outputs": [],
   "source": []
  },
  {
   "cell_type": "code",
   "execution_count": null,
   "metadata": {},
   "outputs": [],
   "source": []
  },
  {
   "cell_type": "markdown",
   "metadata": {},
   "source": [
    "# Task 6 (20 pts)\n",
    "Train Lasso and Ridge regressions using the training sample above with $\\lambda_{Ridge}=3000$ and $\\lambda_{Lasso}=30$ and report their performance over the test set."
   ]
  },
  {
   "cell_type": "code",
   "execution_count": 18,
   "metadata": {},
   "outputs": [],
   "source": [
    "y_train = data_train['y']"
   ]
  },
  {
   "cell_type": "code",
   "execution_count": 19,
   "metadata": {},
   "outputs": [
    {
     "data": {
      "text/html": [
       "<div>\n",
       "<style>\n",
       "    .dataframe thead tr:only-child th {\n",
       "        text-align: right;\n",
       "    }\n",
       "\n",
       "    .dataframe thead th {\n",
       "        text-align: left;\n",
       "    }\n",
       "\n",
       "    .dataframe tbody tr th {\n",
       "        vertical-align: top;\n",
       "    }\n",
       "</style>\n",
       "<table border=\"1\" class=\"dataframe\">\n",
       "  <thead>\n",
       "    <tr style=\"text-align: right;\">\n",
       "      <th></th>\n",
       "      <th>x0</th>\n",
       "      <th>x1</th>\n",
       "      <th>x2</th>\n",
       "      <th>x3</th>\n",
       "      <th>x4</th>\n",
       "      <th>x5</th>\n",
       "      <th>x6</th>\n",
       "      <th>x7</th>\n",
       "      <th>x8</th>\n",
       "      <th>x9</th>\n",
       "      <th>...</th>\n",
       "      <th>x30</th>\n",
       "      <th>x31</th>\n",
       "      <th>x32</th>\n",
       "      <th>x33</th>\n",
       "      <th>x34</th>\n",
       "      <th>x35</th>\n",
       "      <th>x36</th>\n",
       "      <th>x37</th>\n",
       "      <th>x38</th>\n",
       "      <th>x39</th>\n",
       "    </tr>\n",
       "  </thead>\n",
       "  <tbody>\n",
       "    <tr>\n",
       "      <th>0</th>\n",
       "      <td>96.789835</td>\n",
       "      <td>83.183133</td>\n",
       "      <td>24.177181</td>\n",
       "      <td>31.279398</td>\n",
       "      <td>-49.029524</td>\n",
       "      <td>18.872176</td>\n",
       "      <td>168.942794</td>\n",
       "      <td>94.488018</td>\n",
       "      <td>177.780409</td>\n",
       "      <td>27.695043</td>\n",
       "      <td>...</td>\n",
       "      <td>75.825672</td>\n",
       "      <td>41.924134</td>\n",
       "      <td>65.876185</td>\n",
       "      <td>35.898562</td>\n",
       "      <td>34.726463</td>\n",
       "      <td>60.166744</td>\n",
       "      <td>22.004965</td>\n",
       "      <td>43.487052</td>\n",
       "      <td>60.069264</td>\n",
       "      <td>63.794491</td>\n",
       "    </tr>\n",
       "    <tr>\n",
       "      <th>1</th>\n",
       "      <td>38.829317</td>\n",
       "      <td>35.843956</td>\n",
       "      <td>6.297793</td>\n",
       "      <td>15.523440</td>\n",
       "      <td>-21.995928</td>\n",
       "      <td>5.945662</td>\n",
       "      <td>72.037611</td>\n",
       "      <td>42.709207</td>\n",
       "      <td>75.362195</td>\n",
       "      <td>10.284752</td>\n",
       "      <td>...</td>\n",
       "      <td>53.341089</td>\n",
       "      <td>73.765030</td>\n",
       "      <td>47.088544</td>\n",
       "      <td>43.625197</td>\n",
       "      <td>1.265374</td>\n",
       "      <td>53.481250</td>\n",
       "      <td>61.989699</td>\n",
       "      <td>22.419371</td>\n",
       "      <td>72.934372</td>\n",
       "      <td>8.783550</td>\n",
       "    </tr>\n",
       "    <tr>\n",
       "      <th>2</th>\n",
       "      <td>29.925224</td>\n",
       "      <td>25.328958</td>\n",
       "      <td>0.102627</td>\n",
       "      <td>10.403224</td>\n",
       "      <td>-16.379497</td>\n",
       "      <td>4.272577</td>\n",
       "      <td>54.941945</td>\n",
       "      <td>33.758282</td>\n",
       "      <td>58.327999</td>\n",
       "      <td>5.344682</td>\n",
       "      <td>...</td>\n",
       "      <td>51.839900</td>\n",
       "      <td>17.970740</td>\n",
       "      <td>28.483208</td>\n",
       "      <td>43.124356</td>\n",
       "      <td>75.088879</td>\n",
       "      <td>16.991777</td>\n",
       "      <td>3.603125</td>\n",
       "      <td>70.197916</td>\n",
       "      <td>45.761354</td>\n",
       "      <td>16.291789</td>\n",
       "    </tr>\n",
       "    <tr>\n",
       "      <th>3</th>\n",
       "      <td>33.424303</td>\n",
       "      <td>27.676937</td>\n",
       "      <td>4.533496</td>\n",
       "      <td>12.010908</td>\n",
       "      <td>-18.159244</td>\n",
       "      <td>4.777495</td>\n",
       "      <td>54.333856</td>\n",
       "      <td>31.886517</td>\n",
       "      <td>61.607712</td>\n",
       "      <td>6.907591</td>\n",
       "      <td>...</td>\n",
       "      <td>63.825686</td>\n",
       "      <td>97.752102</td>\n",
       "      <td>0.751484</td>\n",
       "      <td>20.599931</td>\n",
       "      <td>95.431639</td>\n",
       "      <td>30.861203</td>\n",
       "      <td>22.548684</td>\n",
       "      <td>93.988541</td>\n",
       "      <td>12.820426</td>\n",
       "      <td>47.022745</td>\n",
       "    </tr>\n",
       "    <tr>\n",
       "      <th>4</th>\n",
       "      <td>69.816320</td>\n",
       "      <td>61.489566</td>\n",
       "      <td>17.181358</td>\n",
       "      <td>24.093144</td>\n",
       "      <td>-35.745184</td>\n",
       "      <td>13.386441</td>\n",
       "      <td>122.288929</td>\n",
       "      <td>68.878098</td>\n",
       "      <td>128.452555</td>\n",
       "      <td>18.808763</td>\n",
       "      <td>...</td>\n",
       "      <td>15.286711</td>\n",
       "      <td>70.996612</td>\n",
       "      <td>86.602438</td>\n",
       "      <td>98.127347</td>\n",
       "      <td>5.357836</td>\n",
       "      <td>87.865145</td>\n",
       "      <td>40.298166</td>\n",
       "      <td>86.488322</td>\n",
       "      <td>60.963969</td>\n",
       "      <td>84.368874</td>\n",
       "    </tr>\n",
       "  </tbody>\n",
       "</table>\n",
       "<p>5 rows × 40 columns</p>\n",
       "</div>"
      ],
      "text/plain": [
       "          x0         x1         x2         x3         x4         x5  \\\n",
       "0  96.789835  83.183133  24.177181  31.279398 -49.029524  18.872176   \n",
       "1  38.829317  35.843956   6.297793  15.523440 -21.995928   5.945662   \n",
       "2  29.925224  25.328958   0.102627  10.403224 -16.379497   4.272577   \n",
       "3  33.424303  27.676937   4.533496  12.010908 -18.159244   4.777495   \n",
       "4  69.816320  61.489566  17.181358  24.093144 -35.745184  13.386441   \n",
       "\n",
       "           x6         x7          x8         x9    ...            x30  \\\n",
       "0  168.942794  94.488018  177.780409  27.695043    ...      75.825672   \n",
       "1   72.037611  42.709207   75.362195  10.284752    ...      53.341089   \n",
       "2   54.941945  33.758282   58.327999   5.344682    ...      51.839900   \n",
       "3   54.333856  31.886517   61.607712   6.907591    ...      63.825686   \n",
       "4  122.288929  68.878098  128.452555  18.808763    ...      15.286711   \n",
       "\n",
       "         x31        x32        x33        x34        x35        x36  \\\n",
       "0  41.924134  65.876185  35.898562  34.726463  60.166744  22.004965   \n",
       "1  73.765030  47.088544  43.625197   1.265374  53.481250  61.989699   \n",
       "2  17.970740  28.483208  43.124356  75.088879  16.991777   3.603125   \n",
       "3  97.752102   0.751484  20.599931  95.431639  30.861203  22.548684   \n",
       "4  70.996612  86.602438  98.127347   5.357836  87.865145  40.298166   \n",
       "\n",
       "         x37        x38        x39  \n",
       "0  43.487052  60.069264  63.794491  \n",
       "1  22.419371  72.934372   8.783550  \n",
       "2  70.197916  45.761354  16.291789  \n",
       "3  93.988541  12.820426  47.022745  \n",
       "4  86.488322  60.963969  84.368874  \n",
       "\n",
       "[5 rows x 40 columns]"
      ]
     },
     "execution_count": 19,
     "metadata": {},
     "output_type": "execute_result"
    }
   ],
   "source": [
    "X_train = data_train.iloc[:,[0,1,2,3,4,5,6,7,8,9,10,11,12,13,14,15,16,17,18,19,20,21,22,23,24,25,26,27,28,29,30,31,32,33,34,35,36,37,38,39]]\n",
    "X_train.head()"
   ]
  },
  {
   "cell_type": "code",
   "execution_count": 21,
   "metadata": {},
   "outputs": [],
   "source": [
    "y_test = data_test['y']"
   ]
  },
  {
   "cell_type": "code",
   "execution_count": 22,
   "metadata": {},
   "outputs": [
    {
     "data": {
      "text/html": [
       "<div>\n",
       "<style>\n",
       "    .dataframe thead tr:only-child th {\n",
       "        text-align: right;\n",
       "    }\n",
       "\n",
       "    .dataframe thead th {\n",
       "        text-align: left;\n",
       "    }\n",
       "\n",
       "    .dataframe tbody tr th {\n",
       "        vertical-align: top;\n",
       "    }\n",
       "</style>\n",
       "<table border=\"1\" class=\"dataframe\">\n",
       "  <thead>\n",
       "    <tr style=\"text-align: right;\">\n",
       "      <th></th>\n",
       "      <th>x0</th>\n",
       "      <th>x1</th>\n",
       "      <th>x2</th>\n",
       "      <th>x3</th>\n",
       "      <th>x4</th>\n",
       "      <th>x5</th>\n",
       "      <th>x6</th>\n",
       "      <th>x7</th>\n",
       "      <th>x8</th>\n",
       "      <th>x9</th>\n",
       "      <th>...</th>\n",
       "      <th>x30</th>\n",
       "      <th>x31</th>\n",
       "      <th>x32</th>\n",
       "      <th>x33</th>\n",
       "      <th>x34</th>\n",
       "      <th>x35</th>\n",
       "      <th>x36</th>\n",
       "      <th>x37</th>\n",
       "      <th>x38</th>\n",
       "      <th>x39</th>\n",
       "    </tr>\n",
       "  </thead>\n",
       "  <tbody>\n",
       "    <tr>\n",
       "      <th>0</th>\n",
       "      <td>24.614936</td>\n",
       "      <td>22.521951</td>\n",
       "      <td>2.197478</td>\n",
       "      <td>9.819148</td>\n",
       "      <td>-17.840580</td>\n",
       "      <td>4.038417</td>\n",
       "      <td>45.040223</td>\n",
       "      <td>27.920974</td>\n",
       "      <td>48.337288</td>\n",
       "      <td>5.541484</td>\n",
       "      <td>...</td>\n",
       "      <td>76.387005</td>\n",
       "      <td>85.107110</td>\n",
       "      <td>28.738932</td>\n",
       "      <td>39.532761</td>\n",
       "      <td>28.256818</td>\n",
       "      <td>85.133257</td>\n",
       "      <td>71.739674</td>\n",
       "      <td>82.660726</td>\n",
       "      <td>26.841269</td>\n",
       "      <td>42.092646</td>\n",
       "    </tr>\n",
       "    <tr>\n",
       "      <th>1</th>\n",
       "      <td>45.453889</td>\n",
       "      <td>38.598541</td>\n",
       "      <td>6.868511</td>\n",
       "      <td>15.599206</td>\n",
       "      <td>-24.764269</td>\n",
       "      <td>7.090872</td>\n",
       "      <td>78.266837</td>\n",
       "      <td>42.097695</td>\n",
       "      <td>81.749616</td>\n",
       "      <td>12.269276</td>\n",
       "      <td>...</td>\n",
       "      <td>78.155191</td>\n",
       "      <td>92.923858</td>\n",
       "      <td>65.545650</td>\n",
       "      <td>5.055256</td>\n",
       "      <td>4.123023</td>\n",
       "      <td>45.566800</td>\n",
       "      <td>39.565349</td>\n",
       "      <td>22.327959</td>\n",
       "      <td>27.841619</td>\n",
       "      <td>7.512355</td>\n",
       "    </tr>\n",
       "    <tr>\n",
       "      <th>2</th>\n",
       "      <td>91.053932</td>\n",
       "      <td>82.169235</td>\n",
       "      <td>20.268322</td>\n",
       "      <td>28.880727</td>\n",
       "      <td>-46.329589</td>\n",
       "      <td>18.357093</td>\n",
       "      <td>157.059847</td>\n",
       "      <td>89.339661</td>\n",
       "      <td>166.453834</td>\n",
       "      <td>24.663196</td>\n",
       "      <td>...</td>\n",
       "      <td>42.146973</td>\n",
       "      <td>26.759732</td>\n",
       "      <td>46.254672</td>\n",
       "      <td>21.134454</td>\n",
       "      <td>7.632506</td>\n",
       "      <td>60.352286</td>\n",
       "      <td>1.957518</td>\n",
       "      <td>82.143760</td>\n",
       "      <td>54.083782</td>\n",
       "      <td>51.693172</td>\n",
       "    </tr>\n",
       "    <tr>\n",
       "      <th>3</th>\n",
       "      <td>-0.328703</td>\n",
       "      <td>0.123033</td>\n",
       "      <td>-8.139047</td>\n",
       "      <td>0.984829</td>\n",
       "      <td>-2.246921</td>\n",
       "      <td>-1.955727</td>\n",
       "      <td>0.862675</td>\n",
       "      <td>3.789570</td>\n",
       "      <td>1.050826</td>\n",
       "      <td>-1.210761</td>\n",
       "      <td>...</td>\n",
       "      <td>77.392123</td>\n",
       "      <td>16.139239</td>\n",
       "      <td>89.502163</td>\n",
       "      <td>67.420489</td>\n",
       "      <td>76.343227</td>\n",
       "      <td>57.400444</td>\n",
       "      <td>16.750873</td>\n",
       "      <td>6.927084</td>\n",
       "      <td>67.371692</td>\n",
       "      <td>79.108816</td>\n",
       "    </tr>\n",
       "    <tr>\n",
       "      <th>4</th>\n",
       "      <td>46.831963</td>\n",
       "      <td>40.137370</td>\n",
       "      <td>7.027021</td>\n",
       "      <td>15.288582</td>\n",
       "      <td>-25.713243</td>\n",
       "      <td>9.302304</td>\n",
       "      <td>81.402224</td>\n",
       "      <td>49.019587</td>\n",
       "      <td>86.408130</td>\n",
       "      <td>13.022716</td>\n",
       "      <td>...</td>\n",
       "      <td>88.055712</td>\n",
       "      <td>64.629393</td>\n",
       "      <td>97.141129</td>\n",
       "      <td>84.851024</td>\n",
       "      <td>45.952819</td>\n",
       "      <td>14.248448</td>\n",
       "      <td>82.044409</td>\n",
       "      <td>35.384527</td>\n",
       "      <td>43.914904</td>\n",
       "      <td>20.892924</td>\n",
       "    </tr>\n",
       "  </tbody>\n",
       "</table>\n",
       "<p>5 rows × 40 columns</p>\n",
       "</div>"
      ],
      "text/plain": [
       "          x0         x1         x2         x3         x4         x5  \\\n",
       "0  24.614936  22.521951   2.197478   9.819148 -17.840580   4.038417   \n",
       "1  45.453889  38.598541   6.868511  15.599206 -24.764269   7.090872   \n",
       "2  91.053932  82.169235  20.268322  28.880727 -46.329589  18.357093   \n",
       "3  -0.328703   0.123033  -8.139047   0.984829  -2.246921  -1.955727   \n",
       "4  46.831963  40.137370   7.027021  15.288582 -25.713243   9.302304   \n",
       "\n",
       "           x6         x7          x8         x9    ...            x30  \\\n",
       "0   45.040223  27.920974   48.337288   5.541484    ...      76.387005   \n",
       "1   78.266837  42.097695   81.749616  12.269276    ...      78.155191   \n",
       "2  157.059847  89.339661  166.453834  24.663196    ...      42.146973   \n",
       "3    0.862675   3.789570    1.050826  -1.210761    ...      77.392123   \n",
       "4   81.402224  49.019587   86.408130  13.022716    ...      88.055712   \n",
       "\n",
       "         x31        x32        x33        x34        x35        x36  \\\n",
       "0  85.107110  28.738932  39.532761  28.256818  85.133257  71.739674   \n",
       "1  92.923858  65.545650   5.055256   4.123023  45.566800  39.565349   \n",
       "2  26.759732  46.254672  21.134454   7.632506  60.352286   1.957518   \n",
       "3  16.139239  89.502163  67.420489  76.343227  57.400444  16.750873   \n",
       "4  64.629393  97.141129  84.851024  45.952819  14.248448  82.044409   \n",
       "\n",
       "         x37        x38        x39  \n",
       "0  82.660726  26.841269  42.092646  \n",
       "1  22.327959  27.841619   7.512355  \n",
       "2  82.143760  54.083782  51.693172  \n",
       "3   6.927084  67.371692  79.108816  \n",
       "4  35.384527  43.914904  20.892924  \n",
       "\n",
       "[5 rows x 40 columns]"
      ]
     },
     "execution_count": 22,
     "metadata": {},
     "output_type": "execute_result"
    }
   ],
   "source": [
    "X_test = data_test.iloc[:,[0,1,2,3,4,5,6,7,8,9,10,11,12,13,14,15,16,17,18,19,20,21,22,23,24,25,26,27,28,29,30,31,32,33,34,35,36,37,38,39]]\n",
    "X_test.head()"
   ]
  },
  {
   "cell_type": "code",
   "execution_count": 23,
   "metadata": {},
   "outputs": [],
   "source": [
    "lambda_ridge = 3000"
   ]
  },
  {
   "cell_type": "code",
   "execution_count": 24,
   "metadata": {},
   "outputs": [],
   "source": [
    "Ridge = linear_model.Ridge(fit_intercept=True,alpha=lambda_ridge)"
   ]
  },
  {
   "cell_type": "code",
   "execution_count": 25,
   "metadata": {},
   "outputs": [
    {
     "data": {
      "text/plain": [
       "Ridge(alpha=3000, copy_X=True, fit_intercept=True, max_iter=None,\n",
       "   normalize=False, random_state=None, solver='auto', tol=0.001)"
      ]
     },
     "execution_count": 25,
     "metadata": {},
     "output_type": "execute_result"
    }
   ],
   "source": [
    "Ridge.fit(X_train,y_train)"
   ]
  },
  {
   "cell_type": "code",
   "execution_count": 26,
   "metadata": {},
   "outputs": [
    {
     "name": "stdout",
     "output_type": "stream",
     "text": [
      "The R-squared we found for IS Ridge is: 0.919670798394\n"
     ]
    }
   ],
   "source": [
    "p_IS=Ridge.predict(X_train)\n",
    "err_IS=p_IS-y_train\n",
    "R_2_IS_Ridge=1-np.var(err_IS)/np.var(y_train)\n",
    "print(\"The R-squared we found for IS Ridge is: {0}\".format(R_2_IS_Ridge))"
   ]
  },
  {
   "cell_type": "code",
   "execution_count": 27,
   "metadata": {},
   "outputs": [
    {
     "name": "stdout",
     "output_type": "stream",
     "text": [
      "The R-squared we found for OS Ridge is: 0.521078167083\n"
     ]
    }
   ],
   "source": [
    "p_OS=Ridge.predict(X_test)\n",
    "err_OS=p_OS-y_test\n",
    "R_2_OS_Ridge=1-np.var(err_OS)/np.var(y_test)\n",
    "print(\"The R-squared we found for OS Ridge is: {0}\".format(R_2_OS_Ridge))"
   ]
  },
  {
   "cell_type": "code",
   "execution_count": 28,
   "metadata": {},
   "outputs": [
    {
     "name": "stdout",
     "output_type": "stream",
     "text": [
      "The R-squared we found for IS Lasso is: 0.919670798394\n",
      "The R-squared we found for OS Lasso is: 0.648004682015\n"
     ]
    }
   ],
   "source": [
    "Lasso=linear_model.Lasso(fit_intercept=True,alpha=30) #try Ridge with a selected regularization parameter lambda\n",
    "\n",
    "Lasso.fit(X_train,y_train)\n",
    "# In the sample:\n",
    "p_IS=Lasso.predict(X_train)\n",
    "err_IS=p_IS-y_train\n",
    "R_2_IS_Lasso=1-np.var(err_IS)/np.var(y_train)\n",
    "print(\"The R-squared we found for IS Lasso is: {0}\".format(R_2_IS_Ridge))\n",
    "\n",
    "Lasso_coef=Lasso.coef_\n",
    "#Out of sample\n",
    "p_OS=Lasso.predict(X_test)\n",
    "err_OS=p_OS-y_test\n",
    "R_2_OS_Lasso=1-np.var(err_OS)/np.var(y_test)\n",
    "print(\"The R-squared we found for OS Lasso is: {0}\".format(R_2_OS_Lasso))"
   ]
  },
  {
   "cell_type": "code",
   "execution_count": null,
   "metadata": {},
   "outputs": [],
   "source": []
  },
  {
   "cell_type": "markdown",
   "metadata": {},
   "source": [
    "# Task 7 (25 pts)\n",
    "a) For each $m=0,1,2,...39$ train OLS, Lasso and Ridge regressions(keep intercept) using the data from Task 5 above with $\\lambda_{Ridge}=3000$ and $\\lambda_{Lasso}=30$ using the first $m$ columns of the data tables as the regressors  \n",
    "i.e train the models by adding in a new variable each time. eg. Y~ x0, Y~x0+x1, Y~x0+x1+x2...Y~x0+x1+...+x39  \n",
    "\n",
    "b) Plot the in-sample (training) and out-of-sample (test) R2 for all three models on the same graph.  \n",
    "i.e (x-axis is number of regressors, y will be your R^2 for InSample & OutSample for each of the 3 models, all in one graph)\n"
   ]
  },
  {
   "cell_type": "code",
   "execution_count": 29,
   "metadata": {},
   "outputs": [],
   "source": [
    "Number_variables=range(len(data_train.columns[:-1]))\n",
    "OLS_R_2_OS_F=[]\n",
    "OLS_R_2_IS_F=[]\n",
    "\n",
    "for i in Number_variables:\n",
    "    \n",
    "    lm1 = smf.ols(formula = 'y ~ '+ '+'.join(data_train.columns[:i+1]), data = data_train).fit()\n",
    "    R2 = modelEval(lm1)\n",
    "    OLS_R_2_IS_F.append(lm1.rsquared)\n",
    "    OLS_R_2_OS_F.append(R2 if R2 > 0 else 0)\n",
    "    "
   ]
  },
  {
   "cell_type": "code",
   "execution_count": 32,
   "metadata": {},
   "outputs": [
    {
     "data": {
      "image/png": "[encoded data removed]",
      "text/plain": [
       "<matplotlib.figure.Figure at 0x7f99ac67a350>"
      ]
     },
     "metadata": {},
     "output_type": "display_data"
    }
   ],
   "source": [
    "OLS_R_2_OS_F=[]\n",
    "OLS_R_2_IS_F=[]\n",
    "OLS_R_2_Ridge_OS_F=[]\n",
    "OLS_R_2_Ridge_IS_F=[]\n",
    "OLS_R_2_Lasso_OS_F=[]\n",
    "OLS_R_2_Lasso_IS_F=[]\n",
    "\n",
    "Ridge=linear_model.Ridge(fit_intercept=True,alpha=3000)\n",
    "Lasso=linear_model.Lasso(fit_intercept=True, alpha=30)\n",
    "\n",
    "for j in Number_variables:\n",
    "    # OLS\n",
    "    lm = smf.ols(formula = 'y ~ '+ '+'.join(data_train.columns[:j+1]), \n",
    "                 data = pd.concat([X_train.ix[:,:j+1],y_train], axis = 1)).fit()\n",
    "    error = lm.predict(X_test.ix[:,:j+1]) - y_test\n",
    "    R_2_OS_OLS=1-error.var()/y_test.var()\n",
    "    R_2_IS_OLS = lm.rsquared\n",
    "    OLS_R_2_IS_F.append(R_2_IS_OLS)\n",
    "    OLS_R_2_OS_F.append(max(R_2_OS_OLS,0))\n",
    "    \n",
    "    # Ridge\n",
    "    Ridge.fit(X_train.ix[:,:j+1],y_train)\n",
    "    \n",
    "    # In sample:\n",
    "    err_IS=Ridge.predict(X_train.ix[:,:j+1]) - y_train\n",
    "    R_2_IS_Ridge=1-np.var(err_IS)/np.var(y_train)\n",
    "    OLS_R_2_Ridge_IS_F.append(R_2_IS_Ridge)\n",
    "    \n",
    "    #Out of sample\n",
    "    err_OS=Ridge.predict(X_test.ix[:,:j+1]) - y_test\n",
    "    R_2_OS_Ridge=1-np.var(err_OS)/np.var(y_test)\n",
    "    OLS_R_2_Ridge_OS_F.append(max(R_2_OS_Ridge,0))\n",
    "\n",
    "    # Lasso\n",
    "    \n",
    "    Lasso.fit(X_train.ix[:,0:j+1],y_train)\n",
    "    \n",
    "    #In sample:\n",
    "    p_IS=Lasso.predict(X_train.ix[:,0:j+1])\n",
    "    err_IS=p_IS-y_train\n",
    "    R_2_IS_Lasso=1-np.var(err_IS)/np.var(y_train)\n",
    "    OLS_R_2_Lasso_IS_F.append(R_2_IS_Lasso)\n",
    "\n",
    "    #Out of sample\n",
    "    p_OS=Lasso.predict(X_test.ix[:,0:j+1])\n",
    "    err_OS=p_OS-y_test\n",
    "    R_2_OS_Lasso=1-np.var(err_OS)/np.var(y_test)\n",
    "    OLS_R_2_Lasso_OS_F.append(max(R_2_OS_Lasso,0))\n",
    "\n",
    "plt.title('OS performance of OLS when we subsequently add variables')\n",
    "\n",
    "plt.plot(Number_variables,OLS_R_2_Lasso_IS_F,'y',label='Lasso_IS')\n",
    "plt.plot(Number_variables,OLS_R_2_Ridge_IS_F,'k',label='Ridge_IS')\n",
    "\n",
    "plt.plot(Number_variables,OLS_R_2_Lasso_OS_F,'c',label='Lasso_OS')\n",
    "plt.plot(Number_variables,OLS_R_2_Ridge_OS_F,'r',label='Ridge_OS')\n",
    "\n",
    "plt.plot(Number_variables,OLS_R_2_OS_F,'b',label='R_squared_OLS_OS')\n",
    "plt.plot(Number_variables,OLS_R_2_IS_F,'g',label='R_squared_OLS_IS')\n",
    "plt.legend(loc='lower left')\n",
    "plt.xlabel('Number of independent variables')\n",
    "plt.ylabel('R-squared')\n",
    "plt.show()\n"
   ]
  },
  {
   "cell_type": "code",
   "execution_count": null,
   "metadata": {},
   "outputs": [],
   "source": []
  },
  {
   "cell_type": "markdown",
   "metadata": {},
   "source": [
    "# Extracredit (100 pts of credit to be applied towards this or any other homework)\n",
    "Using a series of 10 random splits (cross-validation) of the training sample into approximately 70% training and 30% validation samples perform the selection of the optimal $\\lambda$ for Ridge and Lasso regression:   \n",
    "\n",
    "a) For each $\\lambda$ of an assumed sequence of $\\lambda$'s(take a random range) compute validation R2 for all the 10 splits and finally select the $\\lambda$ having the highest value for validation R2 for each split.  \n",
    "\n",
    "b) Visualize the dependence of the validation R2 over $\\lambda$s for Lasso and Ridge(x-axis = $\\lambda$s from sequence, y-axis = corresponding R^2, graph for each split)\n",
    "\n",
    "c) Report the R2 computed over the test set for the Lasso and Ridge trained over the entire training set with the selected optimal values of $\\lambda$ out of the 10 splits."
   ]
  },
  {
   "cell_type": "code",
   "execution_count": 41,
   "metadata": {},
   "outputs": [],
   "source": [
    "from sklearn.model_selection import train_test_split"
   ]
  },
  {
   "cell_type": "code",
   "execution_count": 42,
   "metadata": {},
   "outputs": [],
   "source": [
    "#Find the Alpha and report best test performance for Ridge/Lasso.\n",
    "def Regularization_fit_lambda(model,X_train,y_train,lambdas,p=0.3,Graph=False, logl=False):\n",
    "    #model = 1-Ridge, 2-Lasso\n",
    "    #lambdas: a list of lambda values to try\n",
    "    #p: ratio of the validation sample size / total training size\n",
    "    #Graph: plot the graph of R^2 values for different lambda\n",
    "\n",
    "    R_2_OS=[]\n",
    "    X_train0, X_valid, y_train0, y_valid = train_test_split(X_train,\n",
    "                                    y_train, test_size = 0.3, random_state = 10)\n",
    "\n",
    "    if model==1:\n",
    "        RM = lambda a: linear_model.Ridge(fit_intercept=True, alpha=a)\n",
    "        model_label='Ridge'\n",
    "    else:\n",
    "        RM = lambda a: linear_model.Lasso(fit_intercept=True, alpha=a)\n",
    "        model_label='Lasso'\n",
    "    \n",
    "    best_R2 = -1\n",
    "    best_lambda = lambdas[0]\n",
    "    \n",
    "    for i in lambdas:\n",
    "        lm = RM(i)\n",
    "        lm.fit(X_train0,y_train0)  #fit the regularization model\n",
    "        y_predict=lm.predict(X_valid) #compute the prediction for the validation sample \n",
    "        err_OS=y_predict-y_valid\n",
    "        R_2_OS_=1-np.var(err_OS)/np.var(y_valid)\n",
    "        R_2_OS.append(R_2_OS_)\n",
    "        if R_2_OS_ > best_R2:\n",
    "            best_R2 = R_2_OS_\n",
    "            best_lambda = i\n",
    "    \n",
    "    if Graph==True:\n",
    "        plt.title('IS R-squared vs OS-R-squared for different Lambda')\n",
    "        if logl:\n",
    "            plt.xlabel('ln(Lambda)')\n",
    "            l=log(lambdas)\n",
    "            bl=log(best_lambda)\n",
    "        else:\n",
    "            plt.xlabel('Lambda')\n",
    "            l=lambdas\n",
    "            bl=best_lambda\n",
    "        plt.plot(l,R_2_OS,'b',label=model_label)\n",
    "        plt.legend(loc='upper right')\n",
    "        plt.ylabel('R-squared')\n",
    "        plt.axvline(bl,color='r',linestyle='--')\n",
    "\n",
    "        plt.show()\n",
    "    \n",
    "    return best_lambda"
   ]
  },
  {
   "cell_type": "code",
   "execution_count": 43,
   "metadata": {},
   "outputs": [
    {
     "data": {
      "image/png": "[encoded data removed]",
      "text/plain": [
       "<matplotlib.figure.Figure at 0x7f99a1ede150>"
      ]
     },
     "metadata": {},
     "output_type": "display_data"
    },
    {
     "name": "stdout",
     "output_type": "stream",
     "text": [
      "Optimal lambda for Ridge=50470.5728029\n"
     ]
    }
   ],
   "source": [
    "#select best lambda for Ridge\n",
    "lambdas = np.exp(np.linspace(-5,13,200))\n",
    "lambda_r_optimal=Regularization_fit_lambda(1,X_train,y_train,lambdas,p=0.3,Graph=True)\n",
    "print('Optimal lambda for Ridge={0}'.format(lambda_r_optimal))"
   ]
  },
  {
   "cell_type": "code",
   "execution_count": 44,
   "metadata": {},
   "outputs": [
    {
     "name": "stdout",
     "output_type": "stream",
     "text": [
      "The R-squared we found for IS Ridge is: 0.84264212406\n",
      "The R-squared we found for OS Ridge is: 0.706882091426\n"
     ]
    }
   ],
   "source": [
    "Ridge = linear_model.Ridge(fit_intercept=True,alpha=lambda_r_optimal) #try Ridge with a selected regularization parameter lambda\n",
    "\n",
    "Ridge.fit(X_train,y_train)\n",
    "# In the sample:\n",
    "p_IS=Ridge.predict(X_train)\n",
    "err_IS=p_IS-y_train\n",
    "R_2_IS_Ridge=1-np.var(err_IS)/np.var(y_train)\n",
    "print(\"The R-squared we found for IS Ridge is: {0}\".format(R_2_IS_Ridge))\n",
    "\n",
    "Ridge_coef=Ridge.coef_\n",
    "#Out of sample\n",
    "p_OS=Ridge.predict(X_test)\n",
    "err_OS=p_OS-y_test\n",
    "R_2_OS_Ridge=1-np.var(err_OS)/np.var(y_test)\n",
    "print(\"The R-squared we found for OS Ridge is: {0}\".format(R_2_OS_Ridge))"
   ]
  },
  {
   "cell_type": "code",
   "execution_count": 45,
   "metadata": {},
   "outputs": [
    {
     "data": {
      "text/plain": [
       "array([ 0.02994937,  0.02857191,  0.01133036,  0.01034191, -0.01631712,\n",
       "        0.00578788,  0.05156899,  0.02698699,  0.05420664,  0.00940552,\n",
       "       -0.02225466,  0.01174395, -0.04646725, -0.00284865, -0.01077209,\n",
       "        0.02718464, -0.00146968, -0.0127477 , -0.05270336,  0.00982352,\n",
       "        0.04197865,  0.00861966,  0.0228513 ,  0.00764719,  0.01758913,\n",
       "        0.00420167, -0.00373518, -0.03687922,  0.00444633,  0.00199003,\n",
       "        0.00183961,  0.00288574,  0.05317575, -0.01676443, -0.00181018,\n",
       "        0.0051679 , -0.00462011, -0.01527674,  0.01634125, -0.03467562])"
      ]
     },
     "execution_count": 45,
     "metadata": {},
     "output_type": "execute_result"
    }
   ],
   "source": [
    "Ridge_coef"
   ]
  },
  {
   "cell_type": "code",
   "execution_count": 46,
   "metadata": {},
   "outputs": [
    {
     "name": "stdout",
     "output_type": "stream",
     "text": [
      "The R-squared we found for IS Lasso is: 0.84264212406\n",
      "The R-squared we found for OS Lasso is: 0.305983218742\n"
     ]
    },
    {
     "name": "stderr",
     "output_type": "stream",
     "text": [
      "/opt/rh/anaconda/root/lib/python2.7/site-packages/sklearn/linear_model/coordinate_descent.py:484: ConvergenceWarning: Objective did not converge. You might want to increase the number of iterations. Fitting data with very small alpha may cause precision problems.\n",
      "  ConvergenceWarning)\n"
     ]
    }
   ],
   "source": [
    "Lasso=linear_model.Lasso(fit_intercept=True,alpha=1)\n",
    "#try Ridge with a selected regularization parameter lambda\n",
    "\n",
    "Lasso.fit(X_train,y_train)\n",
    "# In the sample:\n",
    "p_IS=Lasso.predict(X_train)\n",
    "err_IS=p_IS-y_train\n",
    "R_2_IS_Lasso=1-np.var(err_IS)/np.var(y_train)\n",
    "print(\"The R-squared we found for IS Lasso is: {0}\".format(R_2_IS_Ridge))\n",
    "\n",
    "Lasso_coef=Lasso.coef_\n",
    "#Out of sample\n",
    "p_OS=Lasso.predict(X_test)\n",
    "err_OS=p_OS-y_test\n",
    "R_2_OS_Lasso=1-np.var(err_OS)/np.var(y_test)\n",
    "print(\"The R-squared we found for OS Lasso is: {0}\".format(R_2_OS_Lasso))"
   ]
  },
  {
   "cell_type": "code",
   "execution_count": null,
   "metadata": {},
   "outputs": [],
   "source": []
  }
 ],
 "metadata": {
  "anaconda-cloud": {},
  "kernelspec": {
   "display_name": "Python 2",
   "language": "python",
   "name": "python2"
  },
  "language_info": {
   "codemirror_mode": {
    "name": "ipython",
    "version": 2
   },
   "file_extension": ".py",
   "mimetype": "text/x-python",
   "name": "python",
   "nbconvert_exporter": "python",
   "pygments_lexer": "ipython2",
   "version": "2.7.11"
  }
 },
 "nbformat": 4,
 "nbformat_minor": 1
}
