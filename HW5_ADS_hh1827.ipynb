{
 "cells": [
  {
   "cell_type": "markdown",
   "metadata": {},
   "source": [
    "# IMPORTANT"
   ]
  },
  {
   "cell_type": "markdown",
   "metadata": {
    "collapsed": true
   },
   "source": [
    "## The notebook should be named as ADS_HW5_<net_id>\n",
    "## 10 pts will be deducted if the naming convention is not followed"
   ]
  },
  {
   "cell_type": "markdown",
   "metadata": {},
   "source": [
    "# Task 1 (5 pts) \n",
    "\n",
    "\n",
    "a) Provide a definition for the concept of a conjugate prior given the Bayesian learning model\n",
    "\n",
    "b) True or False:\n",
    "Selecting a Gaussian prior for a likelihood function that is Gaussian, will ensure that the posterior distribution is also Gaussian"
   ]
  },
  {
   "cell_type": "markdown",
   "metadata": {},
   "source": [
    "##### a). The Prior Distribution is a conjugate prior for the Likelihood Function if after applying the Likelihood Function, the Prior Distribution belongs to the same distribution family as the Posterior Function. The Prior and Posterior are called conjucate distribution.\n",
    "##### b). True"
   ]
  },
  {
   "cell_type": "markdown",
   "metadata": {},
   "source": [
    "# Task 2 (5 pts). \n",
    "\n",
    "\n",
    "1) In the Bayesian linear regression framework (True or False)  \n",
    "    a) Using a Laplacian prior will lead to the Ridge Regression  \n",
    "    b) Using a Laplacian prior will lead to Lasso Regression\n",
    "\n",
    "2) (True or False)  \n",
    "    a) Ridge can often help with feature selection  \n",
    "    b) Lasso can often help with feature selection"
   ]
  },
  {
   "cell_type": "markdown",
   "metadata": {},
   "source": [
    "#### 1)\n",
    "* a) False\n",
    "* b) True"
   ]
  },
  {
   "cell_type": "markdown",
   "metadata": {},
   "source": [
    "#### 2)\n",
    "* a) False\n",
    "* b) True"
   ]
  },
  {
   "cell_type": "markdown",
   "metadata": {},
   "source": [
    "# Task 3 (10 pts). \n",
    "Answer some questions about the properties of Lasso/Ridge:\n",
    "\n",
    "1.a) Which regression adds penalty equivalent to square of the magnitude of coefficients?  \n",
    "1.b) Which regression adds penalty  equivalent to absolute value of the magnitude of coefficients?\n",
    "\n",
    "2) Which of the Lasso and Ridge regressions possess an analytic solution in the closed form?\n",
    "\n",
    "3) Which of the Lasso and Ridge regression is often use to completely eliminate coefficients for some of the regressors?\n",
    "\n",
    "4) Which value of $\\lambda$ makes Lasso and Ridge identical to the ordinary least square regression?\n",
    "\n",
    "5) What dataset (training, validation or test) you would use to estimate the $\\lambda$ for Lasso or Ridge?\n",
    "\n",
    "# Extra Credit(50 pts to be applied towards this or any other homework)\n",
    "For a regression where the variables are highly correlated, which would you use, Lasso or Ridge and why?"
   ]
  },
  {
   "cell_type": "markdown",
   "metadata": {},
   "source": [
    "#### 1)\n",
    "* a)Ridge\n",
    "* b)Lasso"
   ]
  },
  {
   "cell_type": "markdown",
   "metadata": {},
   "source": [
    "#### 2) Ridge\n",
    "#### 3) Lasso\n",
    "#### 4) λ = 0\n",
    "#### 5) Training dataset"
   ]
  },
  {
   "cell_type": "markdown",
   "metadata": {},
   "source": [
    "#### Extra Credit\n",
    "##### Ridge would be the choice.\n",
    "* Suppose we have a training dataset and a linear model  Y=X1+X2 to fit the data. Given that the two predictor variables X1 and X2 are highly correlated, so many linear combinations of X1, X2 can be excellent substituents of X1 and X2 and act as equally good predictors, for example Y = 0.2X1+0.8X2, Y = 0.3X1+0.7X1, or Y = 0.5X1+0.5X2. The ridge penalty on the parameter vector is C^2+D^2 while the lasso penalty term is ∣C∣+∣D∣. The lasso penalty in all three examples are equal, which is 1, while the ridge penalty terms are respectively 0.68, 0.58, 0.5. In the situation that the available information or data provides little instruction on choosing the different linear combinations of predictors, the ridge penalty will prefer equal weighting of correlated variables while lasso penalty will not be able to choose. Equal weighting might be a better guess for future data because all other scenarios might cause the model to overfit current training data. \n",
    "* Consequently, Ridge regression models are much more stable than LASSO regrssion models, since the coefficients of Ridge regression do not have fluctuant behaviour as LASSO regression coefficients do. This quality of stability makes Ridge regression a good choice for data interpretation. \n",
    "* If feature selection is the prime concern, LASSO regression will be preferred because it forces weak features to have zero as coefficients and only strong features are retained. "
   ]
  },
  {
   "cell_type": "code",
   "execution_count": null,
   "metadata": {},
   "outputs": [],
   "source": []
  },
  {
   "cell_type": "markdown",
   "metadata": {},
   "source": [
    "# Task 4 (15 pts). \n",
    "Consider a Bayesian univariate linear regression $y\\sim {\\cal N}(wx,\\sigma^2)$ with a given $\\sigma=2$ and the prior $w\\sim {\\cal N}(4,2)$. Compute the posterior distribution after an observation $y=14,x=4$. After all, what is the probability of having $w<4$?"
   ]
  },
  {
   "cell_type": "code",
   "execution_count": 2,
   "metadata": {},
   "outputs": [],
   "source": [
    "from scipy import stats"
   ]
  },
  {
   "cell_type": "markdown",
   "metadata": {},
   "source": [
    "$$\n",
    "p(w|Y, X)\\sim e^{-w^2 \\frac{\\sum_i x_i^2(\\sigma^*)^2+\\sigma^2}{2\\sigma^2(\\sigma^*)^2}+w \\frac{(\\sigma^*)^2 \\sum_i y_i x_i+\\sigma^2 w^*}{2\\sigma^2(\\sigma^*)^2}}\\sim e^{\\frac{\\left(w-\\frac{ \\sigma^{-2} \\sum_i y_i x_i +(\\sigma^*)^{-2} w^*}{\\left(\\sum_i x_i^2\\sigma^{-2}+(\\sigma^*)^{-2}\\right)}\\right)^2}{\\frac{2}{(\\sigma^*)^{-2}+\\sum_i x_i^2\\sigma^{-2}}}}\\sim\n",
    "$$"
   ]
  },
  {
   "cell_type": "markdown",
   "metadata": {},
   "source": [
    "$$\n",
    "\\sim {\\cal N}\\left(\\frac{ \\sigma^{-2} \\sum_i y_i x_i +(\\sigma^*)^{-2} w^*}{\\left(\\sum_i x_i^2\\sigma^{-2}+(\\sigma^*)^{-2}\\right)},\n",
    "\\frac{1}{\\sqrt{(\\sigma^*)^{-2}+\\sum_i x_i^2\\sigma^{-2}}}\\right)\n",
    "$$"
   ]
  },
  {
   "cell_type": "code",
   "execution_count": 3,
   "metadata": {},
   "outputs": [
    {
     "name": "stdout",
     "output_type": "stream",
     "text": [
      "w ~ N(3.52941176471, 0.485071250073)\n"
     ]
    }
   ],
   "source": [
    "sigma = 2\n",
    "psigma = 2\n",
    "Ew = 4\n",
    "w0 = (sigma**-2*14*4 + psigma**-2*Ew) / (4*4*sigma**-2 + psigma**-2)\n",
    "s0 = (psigma**-2 + 4*4*sigma**-2)**(-0.5)\n",
    "print(\"w ~ N({0}, {1})\".format(w0, s0))"
   ]
  },
  {
   "cell_type": "code",
   "execution_count": 4,
   "metadata": {},
   "outputs": [
    {
     "name": "stdout",
     "output_type": "stream",
     "text": [
      "the probability of having w<4 is:0.834012266459\n"
     ]
    }
   ],
   "source": [
    "print(\"the probability of having w<4 is:{}\".format(stats.norm.cdf(4, w0, s0)))"
   ]
  },
  {
   "cell_type": "markdown",
   "metadata": {},
   "source": [
    "# Task 5 (20 pts)\n",
    "For the training and test sets provided below, train a linear regression of $y$ (last column) vs the rest of the columns of the table treated as regressors (intercept excluded) over the training set, apply it to the test set and report it's R2 performance over both - training and test set."
   ]
  },
  {
   "cell_type": "code",
   "execution_count": 5,
   "metadata": {},
   "outputs": [],
   "source": [
    "## Learn to use numpy - Will be more useful in future\n",
    "import pandas as pd\n",
    "import numpy as np\n",
    "\n",
    "data_train=pd.read_csv(\"HW_train.csv\")\n",
    "data_test=pd.read_csv(\"HW_test.csv\")\n",
    "\n",
    "# Remove unwanted column\n",
    "data_train.drop('Unnamed: 0',axis=1, inplace=True)\n",
    "data_test.drop('Unnamed: 0',axis=1, inplace=True)"
   ]
  },
  {
   "cell_type": "code",
   "execution_count": 6,
   "metadata": {
    "scrolled": true
   },
   "outputs": [
    {
     "data": {
      "text/html": [
       "<div>\n",
       "<table border=\"1\" class=\"dataframe\">\n",
       "  <thead>\n",
       "    <tr style=\"text-align: right;\">\n",
       "      <th></th>\n",
       "      <th>0</th>\n",
       "      <th>1</th>\n",
       "      <th>2</th>\n",
       "      <th>3</th>\n",
       "      <th>4</th>\n",
       "      <th>5</th>\n",
       "      <th>6</th>\n",
       "      <th>7</th>\n",
       "      <th>8</th>\n",
       "      <th>9</th>\n",
       "      <th>...</th>\n",
       "      <th>31</th>\n",
       "      <th>32</th>\n",
       "      <th>33</th>\n",
       "      <th>34</th>\n",
       "      <th>35</th>\n",
       "      <th>36</th>\n",
       "      <th>37</th>\n",
       "      <th>38</th>\n",
       "      <th>39</th>\n",
       "      <th>40</th>\n",
       "    </tr>\n",
       "  </thead>\n",
       "  <tbody>\n",
       "    <tr>\n",
       "      <th>0</th>\n",
       "      <td>96.789835</td>\n",
       "      <td>83.183133</td>\n",
       "      <td>24.177181</td>\n",
       "      <td>31.279398</td>\n",
       "      <td>-49.029524</td>\n",
       "      <td>18.872176</td>\n",
       "      <td>168.942794</td>\n",
       "      <td>94.488018</td>\n",
       "      <td>177.780409</td>\n",
       "      <td>27.695043</td>\n",
       "      <td>...</td>\n",
       "      <td>41.924134</td>\n",
       "      <td>65.876185</td>\n",
       "      <td>35.898562</td>\n",
       "      <td>34.726463</td>\n",
       "      <td>60.166744</td>\n",
       "      <td>22.004965</td>\n",
       "      <td>43.487052</td>\n",
       "      <td>60.069264</td>\n",
       "      <td>63.794491</td>\n",
       "      <td>65.691782</td>\n",
       "    </tr>\n",
       "    <tr>\n",
       "      <th>1</th>\n",
       "      <td>38.829317</td>\n",
       "      <td>35.843956</td>\n",
       "      <td>6.297793</td>\n",
       "      <td>15.523440</td>\n",
       "      <td>-21.995928</td>\n",
       "      <td>5.945662</td>\n",
       "      <td>72.037611</td>\n",
       "      <td>42.709207</td>\n",
       "      <td>75.362195</td>\n",
       "      <td>10.284752</td>\n",
       "      <td>...</td>\n",
       "      <td>73.765030</td>\n",
       "      <td>47.088544</td>\n",
       "      <td>43.625197</td>\n",
       "      <td>1.265374</td>\n",
       "      <td>53.481250</td>\n",
       "      <td>61.989699</td>\n",
       "      <td>22.419371</td>\n",
       "      <td>72.934372</td>\n",
       "      <td>8.783550</td>\n",
       "      <td>48.600203</td>\n",
       "    </tr>\n",
       "    <tr>\n",
       "      <th>2</th>\n",
       "      <td>29.925224</td>\n",
       "      <td>25.328958</td>\n",
       "      <td>0.102627</td>\n",
       "      <td>10.403224</td>\n",
       "      <td>-16.379497</td>\n",
       "      <td>4.272577</td>\n",
       "      <td>54.941945</td>\n",
       "      <td>33.758282</td>\n",
       "      <td>58.327999</td>\n",
       "      <td>5.344682</td>\n",
       "      <td>...</td>\n",
       "      <td>17.970740</td>\n",
       "      <td>28.483208</td>\n",
       "      <td>43.124356</td>\n",
       "      <td>75.088879</td>\n",
       "      <td>16.991777</td>\n",
       "      <td>3.603125</td>\n",
       "      <td>70.197916</td>\n",
       "      <td>45.761354</td>\n",
       "      <td>16.291789</td>\n",
       "      <td>11.967305</td>\n",
       "    </tr>\n",
       "    <tr>\n",
       "      <th>3</th>\n",
       "      <td>33.424303</td>\n",
       "      <td>27.676937</td>\n",
       "      <td>4.533496</td>\n",
       "      <td>12.010908</td>\n",
       "      <td>-18.159244</td>\n",
       "      <td>4.777495</td>\n",
       "      <td>54.333856</td>\n",
       "      <td>31.886517</td>\n",
       "      <td>61.607712</td>\n",
       "      <td>6.907591</td>\n",
       "      <td>...</td>\n",
       "      <td>97.752102</td>\n",
       "      <td>0.751484</td>\n",
       "      <td>20.599931</td>\n",
       "      <td>95.431639</td>\n",
       "      <td>30.861203</td>\n",
       "      <td>22.548684</td>\n",
       "      <td>93.988541</td>\n",
       "      <td>12.820426</td>\n",
       "      <td>47.022745</td>\n",
       "      <td>15.988018</td>\n",
       "    </tr>\n",
       "    <tr>\n",
       "      <th>4</th>\n",
       "      <td>69.816320</td>\n",
       "      <td>61.489566</td>\n",
       "      <td>17.181358</td>\n",
       "      <td>24.093144</td>\n",
       "      <td>-35.745184</td>\n",
       "      <td>13.386441</td>\n",
       "      <td>122.288929</td>\n",
       "      <td>68.878098</td>\n",
       "      <td>128.452555</td>\n",
       "      <td>18.808763</td>\n",
       "      <td>...</td>\n",
       "      <td>70.996612</td>\n",
       "      <td>86.602438</td>\n",
       "      <td>98.127347</td>\n",
       "      <td>5.357836</td>\n",
       "      <td>87.865145</td>\n",
       "      <td>40.298166</td>\n",
       "      <td>86.488322</td>\n",
       "      <td>60.963969</td>\n",
       "      <td>84.368874</td>\n",
       "      <td>53.736157</td>\n",
       "    </tr>\n",
       "  </tbody>\n",
       "</table>\n",
       "<p>5 rows × 41 columns</p>\n",
       "</div>"
      ],
      "text/plain": [
       "           0          1          2          3          4          5  \\\n",
       "0  96.789835  83.183133  24.177181  31.279398 -49.029524  18.872176   \n",
       "1  38.829317  35.843956   6.297793  15.523440 -21.995928   5.945662   \n",
       "2  29.925224  25.328958   0.102627  10.403224 -16.379497   4.272577   \n",
       "3  33.424303  27.676937   4.533496  12.010908 -18.159244   4.777495   \n",
       "4  69.816320  61.489566  17.181358  24.093144 -35.745184  13.386441   \n",
       "\n",
       "            6          7           8          9    ...             31  \\\n",
       "0  168.942794  94.488018  177.780409  27.695043    ...      41.924134   \n",
       "1   72.037611  42.709207   75.362195  10.284752    ...      73.765030   \n",
       "2   54.941945  33.758282   58.327999   5.344682    ...      17.970740   \n",
       "3   54.333856  31.886517   61.607712   6.907591    ...      97.752102   \n",
       "4  122.288929  68.878098  128.452555  18.808763    ...      70.996612   \n",
       "\n",
       "          32         33         34         35         36         37  \\\n",
       "0  65.876185  35.898562  34.726463  60.166744  22.004965  43.487052   \n",
       "1  47.088544  43.625197   1.265374  53.481250  61.989699  22.419371   \n",
       "2  28.483208  43.124356  75.088879  16.991777   3.603125  70.197916   \n",
       "3   0.751484  20.599931  95.431639  30.861203  22.548684  93.988541   \n",
       "4  86.602438  98.127347   5.357836  87.865145  40.298166  86.488322   \n",
       "\n",
       "          38         39         40  \n",
       "0  60.069264  63.794491  65.691782  \n",
       "1  72.934372   8.783550  48.600203  \n",
       "2  45.761354  16.291789  11.967305  \n",
       "3  12.820426  47.022745  15.988018  \n",
       "4  60.963969  84.368874  53.736157  \n",
       "\n",
       "[5 rows x 41 columns]"
      ]
     },
     "execution_count": 6,
     "metadata": {},
     "output_type": "execute_result"
    }
   ],
   "source": [
    "data_train.head()"
   ]
  },
  {
   "cell_type": "code",
   "execution_count": 7,
   "metadata": {},
   "outputs": [
    {
     "data": {
      "text/html": [
       "<div>\n",
       "<table border=\"1\" class=\"dataframe\">\n",
       "  <thead>\n",
       "    <tr style=\"text-align: right;\">\n",
       "      <th></th>\n",
       "      <th>x0</th>\n",
       "      <th>x1</th>\n",
       "      <th>x2</th>\n",
       "      <th>x3</th>\n",
       "      <th>x4</th>\n",
       "      <th>x5</th>\n",
       "      <th>x6</th>\n",
       "      <th>x7</th>\n",
       "      <th>x8</th>\n",
       "      <th>x9</th>\n",
       "      <th>...</th>\n",
       "      <th>x31</th>\n",
       "      <th>x32</th>\n",
       "      <th>x33</th>\n",
       "      <th>x34</th>\n",
       "      <th>x35</th>\n",
       "      <th>x36</th>\n",
       "      <th>x37</th>\n",
       "      <th>x38</th>\n",
       "      <th>x39</th>\n",
       "      <th>Y</th>\n",
       "    </tr>\n",
       "  </thead>\n",
       "  <tbody>\n",
       "    <tr>\n",
       "      <th>0</th>\n",
       "      <td>96.789835</td>\n",
       "      <td>83.183133</td>\n",
       "      <td>24.177181</td>\n",
       "      <td>31.279398</td>\n",
       "      <td>-49.029524</td>\n",
       "      <td>18.872176</td>\n",
       "      <td>168.942794</td>\n",
       "      <td>94.488018</td>\n",
       "      <td>177.780409</td>\n",
       "      <td>27.695043</td>\n",
       "      <td>...</td>\n",
       "      <td>41.924134</td>\n",
       "      <td>65.876185</td>\n",
       "      <td>35.898562</td>\n",
       "      <td>34.726463</td>\n",
       "      <td>60.166744</td>\n",
       "      <td>22.004965</td>\n",
       "      <td>43.487052</td>\n",
       "      <td>60.069264</td>\n",
       "      <td>63.794491</td>\n",
       "      <td>65.691782</td>\n",
       "    </tr>\n",
       "    <tr>\n",
       "      <th>1</th>\n",
       "      <td>38.829317</td>\n",
       "      <td>35.843956</td>\n",
       "      <td>6.297793</td>\n",
       "      <td>15.523440</td>\n",
       "      <td>-21.995928</td>\n",
       "      <td>5.945662</td>\n",
       "      <td>72.037611</td>\n",
       "      <td>42.709207</td>\n",
       "      <td>75.362195</td>\n",
       "      <td>10.284752</td>\n",
       "      <td>...</td>\n",
       "      <td>73.765030</td>\n",
       "      <td>47.088544</td>\n",
       "      <td>43.625197</td>\n",
       "      <td>1.265374</td>\n",
       "      <td>53.481250</td>\n",
       "      <td>61.989699</td>\n",
       "      <td>22.419371</td>\n",
       "      <td>72.934372</td>\n",
       "      <td>8.783550</td>\n",
       "      <td>48.600203</td>\n",
       "    </tr>\n",
       "  </tbody>\n",
       "</table>\n",
       "<p>2 rows × 41 columns</p>\n",
       "</div>"
      ],
      "text/plain": [
       "          x0         x1         x2         x3         x4         x5  \\\n",
       "0  96.789835  83.183133  24.177181  31.279398 -49.029524  18.872176   \n",
       "1  38.829317  35.843956   6.297793  15.523440 -21.995928   5.945662   \n",
       "\n",
       "           x6         x7          x8         x9    ...            x31  \\\n",
       "0  168.942794  94.488018  177.780409  27.695043    ...      41.924134   \n",
       "1   72.037611  42.709207   75.362195  10.284752    ...      73.765030   \n",
       "\n",
       "         x32        x33        x34        x35        x36        x37  \\\n",
       "0  65.876185  35.898562  34.726463  60.166744  22.004965  43.487052   \n",
       "1  47.088544  43.625197   1.265374  53.481250  61.989699  22.419371   \n",
       "\n",
       "         x38        x39          Y  \n",
       "0  60.069264  63.794491  65.691782  \n",
       "1  72.934372   8.783550  48.600203  \n",
       "\n",
       "[2 rows x 41 columns]"
      ]
     },
     "execution_count": 7,
     "metadata": {},
     "output_type": "execute_result"
    }
   ],
   "source": [
    "data_train.columns = ['x0', 'x1', 'x2', 'x3', 'x4', 'x5', 'x6', 'x7', 'x8', 'x9', 'x10', 'x11', 'x12', 'x13', 'x14', 'x15', 'x16', 'x17',\n",
    "                     'x18', 'x19', 'x20', 'x21', 'x22', 'x23', 'x24', 'x25', 'x26', 'x27', 'x28', 'x29', 'x30', 'x31', 'x32', 'x33', 'x34',\n",
    "                     'x35', 'x36', 'x37', 'x38', 'x39', 'Y']\n",
    "data_train.head(2)"
   ]
  },
  {
   "cell_type": "code",
   "execution_count": 8,
   "metadata": {
    "scrolled": true
   },
   "outputs": [
    {
     "name": "stdout",
     "output_type": "stream",
     "text": [
      "                            OLS Regression Results                            \n",
      "==============================================================================\n",
      "Dep. Variable:                      Y   R-squared:                       1.000\n",
      "Model:                            OLS   Adj. R-squared:                    nan\n",
      "Method:                 Least Squares   F-statistic:                     0.000\n",
      "Date:                Mon, 27 Nov 2017   Prob (F-statistic):                nan\n",
      "Time:                        23:05:07   Log-Likelihood:                 812.26\n",
      "No. Observations:                  30   AIC:                            -1565.\n",
      "Df Residuals:                       0   BIC:                            -1522.\n",
      "Df Model:                          29                                         \n",
      "Covariance Type:            nonrobust                                         \n",
      "==============================================================================\n",
      "                 coef    std err          t      P>|t|      [95.0% Conf. Int.]\n",
      "------------------------------------------------------------------------------\n",
      "x0             2.3096        inf          0        nan           nan       nan\n",
      "x1             4.7149        inf          0        nan           nan       nan\n",
      "x2            -1.6055        inf         -0        nan           nan       nan\n",
      "x3            -0.9524        inf         -0        nan           nan       nan\n",
      "x4            -4.0177        inf         -0        nan           nan       nan\n",
      "x5            -0.2381        inf         -0        nan           nan       nan\n",
      "x6            -1.7561        inf         -0        nan           nan       nan\n",
      "x7            -2.1521        inf         -0        nan           nan       nan\n",
      "x8            -1.0249        inf         -0        nan           nan       nan\n",
      "x9            -0.4788        inf         -0        nan           nan       nan\n",
      "x10            2.3630        inf          0        nan           nan       nan\n",
      "x11            1.2229        inf          0        nan           nan       nan\n",
      "x12           -0.5476        inf         -0        nan           nan       nan\n",
      "x13            1.5707        inf          0        nan           nan       nan\n",
      "x14           -1.5827        inf         -0        nan           nan       nan\n",
      "x15           -2.1891        inf         -0        nan           nan       nan\n",
      "x16           -2.2518        inf         -0        nan           nan       nan\n",
      "x17           -2.2520        inf         -0        nan           nan       nan\n",
      "x18            0.0823        inf          0        nan           nan       nan\n",
      "x19           -2.0780        inf         -0        nan           nan       nan\n",
      "x20            1.4943        inf          0        nan           nan       nan\n",
      "x21            0.2153        inf          0        nan           nan       nan\n",
      "x22            0.0588        inf          0        nan           nan       nan\n",
      "x23            0.1163        inf          0        nan           nan       nan\n",
      "x24            0.1810        inf          0        nan           nan       nan\n",
      "x25            0.0800        inf          0        nan           nan       nan\n",
      "x26            0.0787        inf          0        nan           nan       nan\n",
      "x27           -0.2686        inf         -0        nan           nan       nan\n",
      "x28           -0.1350        inf         -0        nan           nan       nan\n",
      "x29           -0.0056        inf         -0        nan           nan       nan\n",
      "x30           -0.0301        inf         -0        nan           nan       nan\n",
      "x31           -0.0243        inf         -0        nan           nan       nan\n",
      "x32            0.1360        inf          0        nan           nan       nan\n",
      "x33           -0.0161        inf         -0        nan           nan       nan\n",
      "x34           -0.1550        inf         -0        nan           nan       nan\n",
      "x35           -0.1374        inf         -0        nan           nan       nan\n",
      "x36           -0.3347        inf         -0        nan           nan       nan\n",
      "x37            0.0179        inf          0        nan           nan       nan\n",
      "x38           -0.1415        inf         -0        nan           nan       nan\n",
      "x39           -0.0370        inf         -0        nan           nan       nan\n",
      "==============================================================================\n",
      "Omnibus:                        0.217   Durbin-Watson:                   0.510\n",
      "Prob(Omnibus):                  0.897   Jarque-Bera (JB):                0.405\n",
      "Skew:                          -0.134   Prob(JB):                        0.817\n",
      "Kurtosis:                       2.497   Cond. No.                         925.\n",
      "==============================================================================\n",
      "\n",
      "Warnings:\n",
      "[1] Standard Errors assume that the covariance matrix of the errors is correctly specified.\n",
      "[2] The input rank is higher than the number of observations.\n"
     ]
    }
   ],
   "source": [
    "import statsmodels.formula.api as smf\n",
    "model = smf.ols(formula = 'Y ~ '+ '+'.join(data_train.columns[:-1]) + '-1', data = data_train).fit()\n",
    "OLS_coef = model.params\n",
    "print(model.summary())"
   ]
  },
  {
   "cell_type": "code",
   "execution_count": 9,
   "metadata": {},
   "outputs": [],
   "source": [
    "def modelEval(lm, key = 'Y'):\n",
    "    lmy = lm.predict(data_train)\n",
    "    y_err = lmy - data_train[key]\n",
    "    y_norm = data_train[key]-np.mean(data_train[key])\n",
    "    return 1-y_err.dot(y_err)/y_norm.dot(y_norm)"
   ]
  },
  {
   "cell_type": "code",
   "execution_count": 10,
   "metadata": {
    "scrolled": true
   },
   "outputs": [
    {
     "name": "stdout",
     "output_type": "stream",
     "text": [
      "R2 performance over training data: 1.000000\n"
     ]
    }
   ],
   "source": [
    "print('R2 performance over training data: %f'%modelEval(model))"
   ]
  },
  {
   "cell_type": "code",
   "execution_count": 11,
   "metadata": {},
   "outputs": [
    {
     "data": {
      "text/html": [
       "<div>\n",
       "<table border=\"1\" class=\"dataframe\">\n",
       "  <thead>\n",
       "    <tr style=\"text-align: right;\">\n",
       "      <th></th>\n",
       "      <th>x0</th>\n",
       "      <th>x1</th>\n",
       "      <th>x2</th>\n",
       "      <th>x3</th>\n",
       "      <th>x4</th>\n",
       "      <th>x5</th>\n",
       "      <th>x6</th>\n",
       "      <th>x7</th>\n",
       "      <th>x8</th>\n",
       "      <th>x9</th>\n",
       "      <th>...</th>\n",
       "      <th>x31</th>\n",
       "      <th>x32</th>\n",
       "      <th>x33</th>\n",
       "      <th>x34</th>\n",
       "      <th>x35</th>\n",
       "      <th>x36</th>\n",
       "      <th>x37</th>\n",
       "      <th>x38</th>\n",
       "      <th>x39</th>\n",
       "      <th>Y</th>\n",
       "    </tr>\n",
       "  </thead>\n",
       "  <tbody>\n",
       "    <tr>\n",
       "      <th>0</th>\n",
       "      <td>24.614936</td>\n",
       "      <td>22.521951</td>\n",
       "      <td>2.197478</td>\n",
       "      <td>9.819148</td>\n",
       "      <td>-17.840580</td>\n",
       "      <td>4.038417</td>\n",
       "      <td>45.040223</td>\n",
       "      <td>27.920974</td>\n",
       "      <td>48.337288</td>\n",
       "      <td>5.541484</td>\n",
       "      <td>...</td>\n",
       "      <td>85.107110</td>\n",
       "      <td>28.738932</td>\n",
       "      <td>39.532761</td>\n",
       "      <td>28.256818</td>\n",
       "      <td>85.133257</td>\n",
       "      <td>71.739674</td>\n",
       "      <td>82.660726</td>\n",
       "      <td>26.841269</td>\n",
       "      <td>42.092646</td>\n",
       "      <td>18.27435</td>\n",
       "    </tr>\n",
       "    <tr>\n",
       "      <th>1</th>\n",
       "      <td>45.453889</td>\n",
       "      <td>38.598541</td>\n",
       "      <td>6.868511</td>\n",
       "      <td>15.599206</td>\n",
       "      <td>-24.764269</td>\n",
       "      <td>7.090872</td>\n",
       "      <td>78.266837</td>\n",
       "      <td>42.097695</td>\n",
       "      <td>81.749616</td>\n",
       "      <td>12.269276</td>\n",
       "      <td>...</td>\n",
       "      <td>92.923858</td>\n",
       "      <td>65.545650</td>\n",
       "      <td>5.055256</td>\n",
       "      <td>4.123023</td>\n",
       "      <td>45.566800</td>\n",
       "      <td>39.565349</td>\n",
       "      <td>22.327959</td>\n",
       "      <td>27.841619</td>\n",
       "      <td>7.512355</td>\n",
       "      <td>33.72050</td>\n",
       "    </tr>\n",
       "  </tbody>\n",
       "</table>\n",
       "<p>2 rows × 41 columns</p>\n",
       "</div>"
      ],
      "text/plain": [
       "          x0         x1        x2         x3         x4        x5         x6  \\\n",
       "0  24.614936  22.521951  2.197478   9.819148 -17.840580  4.038417  45.040223   \n",
       "1  45.453889  38.598541  6.868511  15.599206 -24.764269  7.090872  78.266837   \n",
       "\n",
       "          x7         x8         x9    ...           x31        x32        x33  \\\n",
       "0  27.920974  48.337288   5.541484    ...     85.107110  28.738932  39.532761   \n",
       "1  42.097695  81.749616  12.269276    ...     92.923858  65.545650   5.055256   \n",
       "\n",
       "         x34        x35        x36        x37        x38        x39         Y  \n",
       "0  28.256818  85.133257  71.739674  82.660726  26.841269  42.092646  18.27435  \n",
       "1   4.123023  45.566800  39.565349  22.327959  27.841619   7.512355  33.72050  \n",
       "\n",
       "[2 rows x 41 columns]"
      ]
     },
     "execution_count": 11,
     "metadata": {},
     "output_type": "execute_result"
    }
   ],
   "source": [
    "data_test.columns = ['x0', 'x1', 'x2', 'x3', 'x4', 'x5', 'x6', 'x7', 'x8', 'x9', 'x10', 'x11', 'x12', 'x13', 'x14', 'x15', 'x16', 'x17',\n",
    "                     'x18', 'x19', 'x20', 'x21', 'x22', 'x23', 'x24', 'x25', 'x26', 'x27', 'x28', 'x29', 'x30', 'x31', 'x32', 'x33', 'x34',\n",
    "                     'x35', 'x36', 'x37', 'x38', 'x39', 'Y']\n",
    "data_test.head(2)"
   ]
  },
  {
   "cell_type": "code",
   "execution_count": 12,
   "metadata": {},
   "outputs": [],
   "source": [
    "def modelEval2(lm, key = 'Y'):\n",
    "    lmy = lm.predict(data_test)\n",
    "    y_err = lmy - data_test[key]\n",
    "    y_norm = data_test[key]-np.mean(data_test[key])\n",
    "    return 1-y_err.dot(y_err)/y_norm.dot(y_norm)"
   ]
  },
  {
   "cell_type": "code",
   "execution_count": 13,
   "metadata": {},
   "outputs": [
    {
     "name": "stdout",
     "output_type": "stream",
     "text": [
      "R2 performance over test data: -1.027964\n"
     ]
    }
   ],
   "source": [
    "print('R2 performance over test data: %f'%modelEval2(model))"
   ]
  },
  {
   "cell_type": "markdown",
   "metadata": {},
   "source": [
    "# Task 6 (20 pts)\n",
    "Train Lasso and Ridge regressions using the training sample above with $\\lambda_{Ridge}=3000$ and $\\lambda_{Lasso}=30$ and report their performance over the test set."
   ]
  },
  {
   "cell_type": "code",
   "execution_count": 14,
   "metadata": {},
   "outputs": [],
   "source": [
    "from scipy import stats\n",
    "from sklearn import linear_model"
   ]
  },
  {
   "cell_type": "code",
   "execution_count": 15,
   "metadata": {},
   "outputs": [],
   "source": [
    "X_train = data_train.ix[:,:-1]\n",
    "y_train = data_train.ix[:,-1]\n",
    "X_test = data_test.ix[:,:-1]\n",
    "y_test = data_test.ix[:,-1]"
   ]
  },
  {
   "cell_type": "code",
   "execution_count": 16,
   "metadata": {},
   "outputs": [
    {
     "name": "stdout",
     "output_type": "stream",
     "text": [
      "The R-squared of Ridge Regression for training dataset is: 0.999390960997\n",
      "The R-squared of Ridge  Regression for test dataset is: -0.677447117557\n"
     ]
    }
   ],
   "source": [
    "Ridge=linear_model.Ridge(fit_intercept=True, alpha=1) \n",
    "\n",
    "Ridge.fit(X_train,y_train)\n",
    "# In the sample:\n",
    "p_IS=Ridge.predict(X_train)\n",
    "err_IS=p_IS-y_train\n",
    "R_2_IS_Ridge=1-np.var(err_IS)/np.var(y_train)\n",
    "print(\"The R-squared of Ridge Regression for training dataset is: {0}\".format(R_2_IS_Ridge))\n",
    "\n",
    "Ridge_coef=Ridge.coef_\n",
    "\n",
    "#Out of sample\n",
    "p_OS=Ridge.predict(X_test)\n",
    "err_OS=p_OS-y_test\n",
    "R_2_OS_Ridge=1-np.var(err_OS)/np.var(y_test)\n",
    "print(\"The R-squared of Ridge  Regression for test dataset is: {0}\".format(R_2_OS_Ridge))"
   ]
  },
  {
   "cell_type": "code",
   "execution_count": 17,
   "metadata": {},
   "outputs": [
    {
     "name": "stdout",
     "output_type": "stream",
     "text": [
      "The R-squared of Lasso regression for training sample is: 0.878135684241\n",
      "The R-squared of Lasso regression for test set is: 0.648004682015\n"
     ]
    }
   ],
   "source": [
    "Lasso=linear_model.Lasso(fit_intercept=True,alpha=30)\n",
    "\n",
    "Lasso.fit(X_train,y_train)\n",
    "\n",
    "p_IS=Lasso.predict(X_train)\n",
    "err_IS=p_IS-y_train\n",
    "R_2_IS_Lasso=1-np.var(err_IS)/np.var(y_train)\n",
    "print(\"The R-squared of Lasso regression for training sample is: {0}\".format(R_2_IS_Lasso))\n",
    "\n",
    "Lasso_coef=Lasso.coef_\n",
    "\n",
    "p_OS=Lasso.predict(X_test)\n",
    "err_OS=p_OS-y_test\n",
    "R_2_OS_Lasso=1-np.var(err_OS)/np.var(y_test)\n",
    "print(\"The R-squared of Lasso regression for test set is: {0}\".format(R_2_OS_Lasso))"
   ]
  },
  {
   "cell_type": "markdown",
   "metadata": {},
   "source": [
    "# Task 7 (25 pts)\n",
    "a) For each $m=0,1,2,...39$ train OLS, Lasso and Ridge regressions(keep intercept) using the data from Task 5 above with $\\lambda_{Ridge}=3000$ and $\\lambda_{Lasso}=30$ using the first $m$ columns of the data tables as the regressors  \n",
    "i.e train the models by adding in a new variable each time. eg. Y~ x0, Y~x0+x1, Y~x0+x1+x2...Y~x0+x1+...+x39  \n",
    "\n",
    "b) Plot the in-sample (training) and out-of-sample (test) R2 for all three models on the same graph.  \n",
    "i.e (x-axis is number of regressors, y will be your R^2 for InSample & OutSample for each of the 3 models, all in one graph)\n"
   ]
  },
  {
   "cell_type": "code",
   "execution_count": 18,
   "metadata": {},
   "outputs": [],
   "source": [
    "import matplotlib.pyplot as plt"
   ]
  },
  {
   "cell_type": "code",
   "execution_count": 19,
   "metadata": {},
   "outputs": [
    {
     "data": {
      "image/png": "[encoded data removed]",
      "text/plain": [
       "<matplotlib.figure.Figure at 0x7f2532885890>"
      ]
     },
     "metadata": {},
     "output_type": "display_data"
    }
   ],
   "source": [
    "OLS_R_2_OS_F=[]\n",
    "OLS_R_2_IS_F=[]\n",
    "OLS_R_2_Ridge_OS_F=[]\n",
    "OLS_R_2_Ridge_IS_F=[]\n",
    "OLS_R_2_Lasso_OS_F=[]\n",
    "OLS_R_2_Lasso_IS_F=[]\n",
    "\n",
    "Number_variables=range(len(data_train.columns[:-1]))\n",
    "Ridge=linear_model.Ridge(fit_intercept=True,alpha=3000)\n",
    "Lasso=linear_model.Lasso(fit_intercept=True, alpha=30)\n",
    "\n",
    "for j in Number_variables:\n",
    "    # OLS\n",
    "    lm = smf.ols(formula = 'Y ~ '+ '+'.join(data_train.columns[:j+1]), \n",
    "                 data = pd.concat([X_train.ix[:,:j+1],y_train], axis = 1)).fit()\n",
    "    error = lm.predict(X_test.ix[:,:j+1]) - y_test\n",
    "    R_2_OS_OLS=1-error.var()/y_test.var()\n",
    "    R_2_IS_OLS = lm.rsquared\n",
    "    OLS_R_2_IS_F.append(R_2_IS_OLS)\n",
    "    OLS_R_2_OS_F.append(max(R_2_OS_OLS,0))\n",
    "    \n",
    "    # Ridge\n",
    "    Ridge.fit(X_train.ix[:,:j+1],y_train)\n",
    "    \n",
    "    # In sample:\n",
    "    err_IS=Ridge.predict(X_train.ix[:,:j+1]) - y_train\n",
    "    R_2_IS_Ridge=1-np.var(err_IS)/np.var(y_train)\n",
    "    OLS_R_2_Ridge_IS_F.append(R_2_IS_Ridge)\n",
    "    \n",
    "    #Out of sample\n",
    "    err_OS=Ridge.predict(X_test.ix[:,:j+1]) - y_test\n",
    "    R_2_OS_Ridge=1-np.var(err_OS)/np.var(y_test)\n",
    "    OLS_R_2_Ridge_OS_F.append(max(R_2_OS_Ridge,0))\n",
    "\n",
    "    # Lasso\n",
    "    \n",
    "    Lasso.fit(X_train.ix[:,0:j+1],y_train)\n",
    "    \n",
    "    #In sample:\n",
    "    p_IS=Lasso.predict(X_train.ix[:,0:j+1])\n",
    "    err_IS=p_IS-y_train\n",
    "    R_2_IS_Lasso=1-np.var(err_IS)/np.var(y_train)\n",
    "    OLS_R_2_Lasso_IS_F.append(R_2_IS_Lasso)\n",
    "\n",
    "    #Out of sample\n",
    "    p_OS=Lasso.predict(X_test.ix[:,0:j+1])\n",
    "    err_OS=p_OS-y_test\n",
    "    R_2_OS_Lasso=1-np.var(err_OS)/np.var(y_test)\n",
    "    OLS_R_2_Lasso_OS_F.append(max(R_2_OS_Lasso,0))\n",
    "\n",
    "fig = plt.figure(figsize=(15,8))\n",
    "plt.title('OS performance of OLS when we subsequently add variables')\n",
    "\n",
    "plt.plot(Number_variables,OLS_R_2_IS_F,'g',label='OLS_IS')\n",
    "plt.plot(Number_variables,OLS_R_2_Lasso_IS_F,'y',label='Lasso_IS')\n",
    "plt.plot(Number_variables,OLS_R_2_Ridge_IS_F,'k',label='Ridge_IS')\n",
    "\n",
    "plt.plot(Number_variables,OLS_R_2_OS_F,'b',label='OLS_OS')\n",
    "plt.plot(Number_variables,OLS_R_2_Lasso_OS_F,'c',label='Lasso_OS')\n",
    "plt.plot(Number_variables,OLS_R_2_Ridge_OS_F,'r',label='Ridge_OS')\n",
    "\n",
    "plt.legend(loc='lower left')\n",
    "plt.xlabel('Number of independent variables')\n",
    "plt.ylabel('R-squared')\n",
    "plt.show()"
   ]
  },
  {
   "cell_type": "code",
   "execution_count": null,
   "metadata": {},
   "outputs": [],
   "source": []
  },
  {
   "cell_type": "markdown",
   "metadata": {},
   "source": [
    "# Extracredit (100 pts of credit to be applied towards this or any other homework)\n",
    "Using a series of 10 random splits (cross-validation) of the training sample into approximately 70% training and 30% validation samples perform the selection of the optimal $\\lambda$ for Ridge and Lasso regression:   \n",
    "\n",
    "a) For each $\\lambda$ of an assumed sequence of $\\lambda$'s(take a random range) compute validation R2 for all the 10 splits and finally select the $\\lambda$ having the highest value for validation R2 for each split.  \n",
    "\n",
    "b) Visualize the dependence of the validation R2 over $\\lambda$s for Lasso and Ridge(x-axis = $\\lambda$s from sequence, y-axis = corresponding R^2, graph for each split)\n",
    "\n",
    "c) Report the R2 computed over the test set for the Lasso and Ridge trained over the entire training set with the selected optimal values of $\\lambda$ out of the 10 splits."
   ]
  },
  {
   "cell_type": "code",
   "execution_count": null,
   "metadata": {},
   "outputs": [],
   "source": []
  }
 ],
 "metadata": {
  "anaconda-cloud": {},
  "kernelspec": {
   "display_name": "PUI2016_Python2",
   "language": "python",
   "name": "pui2016_python2"
  },
  "language_info": {
   "codemirror_mode": {
    "name": "ipython",
    "version": 2
   },
   "file_extension": ".py",
   "mimetype": "text/x-python",
   "name": "python",
   "nbconvert_exporter": "python",
   "pygments_lexer": "ipython2",
   "version": "2.7.12"
  }
 },
 "nbformat": 4,
 "nbformat_minor": 1
}
