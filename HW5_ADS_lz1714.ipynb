{
 "cells": [
  {
   "cell_type": "code",
   "execution_count": 1,
   "metadata": {},
   "outputs": [],
   "source": [
    "from __future__ import print_function, division\n",
    "%matplotlib inline\n",
    "import pandas as pd\n",
    "import numpy as np\n",
    "import matplotlib.pyplot as plt\n",
    "#import Quandl\n",
    "import statsmodels.formula.api as smf\n",
    "from scipy import stats\n",
    "#from pandas.stats.api import ols\n",
    "from sklearn import linear_model\n",
    "import matplotlib\n",
    "from sklearn.model_selection import train_test_split\n",
    "\n",
    "matplotlib.rcParams['figure.figsize'] = (10,8)\n",
    "matplotlib.rcParams['font.size'] = 12"
   ]
  },
  {
   "cell_type": "markdown",
   "metadata": {},
   "source": [
    "# Task 1 (5 pts) \n",
    "\n",
    "\n",
    "a) Provide a definition for the concept of a conjugate prior given the Bayesian learning model"
   ]
  },
  {
   "cell_type": "markdown",
   "metadata": {},
   "source": [
    "In Bayesian probability theory, if the posterior distributions p(θ|x) are in the same family as the prior probability distribution p(θ), the prior and posterior are then called conjugate distributions, and the prior is called a conjugate prior for the likelihood function."
   ]
  },
  {
   "cell_type": "markdown",
   "metadata": {},
   "source": [
    "b) True or False:\n",
    "Selecting a Gaussian prior for a likelihood function that is Gaussian, will ensure that the posterior distribution is also Gaussian"
   ]
  },
  {
   "cell_type": "markdown",
   "metadata": {},
   "source": [
    "#### Answer:\n",
    "#### True "
   ]
  },
  {
   "cell_type": "markdown",
   "metadata": {},
   "source": [
    "# Task 2 (5 pts). \n",
    "\n",
    "\n",
    "1) In the Bayesian linear regression framework (True or False)  \n",
    "    a) Using a Laplacian prior will lead to the Ridge Regression  \n",
    "    b) Using a Laplacian prior will lead to Lasso Regression"
   ]
  },
  {
   "cell_type": "markdown",
   "metadata": {},
   "source": [
    "#### Answer:\n",
    "#### a) False \n",
    "    * Square\n",
    "#### b) True. \n",
    "    * absolute value"
   ]
  },
  {
   "cell_type": "markdown",
   "metadata": {},
   "source": [
    "2) (True or False)  \n",
    "    a) Ridge can often help with feature selection  \n",
    "    b) Lasso can often help with feature selection"
   ]
  },
  {
   "cell_type": "markdown",
   "metadata": {},
   "source": [
    "#### Answer:\n",
    "#### a) False \n",
    "    * It shrinks the value of coefficients but doesn’t reaches zero, which suggests no feature selection feature.\n",
    "#### b) True. \n",
    "    * \"Lasso however has an advantage of being able to completely eliminate impact of certain irrelevant regressors setting the corresponding slope coefficients to zero.\""
   ]
  },
  {
   "cell_type": "markdown",
   "metadata": {},
   "source": [
    "# Task 3 (10 pts). \n",
    "Answer some questions about the properties of Lasso/Ridge:\n",
    "\n",
    "1.a) Which regression adds penalty equivalent to square of the magnitude of coefficients?  \n",
    "1.b) Which regression adds penalty  equivalent to absolute value of the magnitude of coefficients?"
   ]
  },
  {
   "cell_type": "markdown",
   "metadata": {},
   "source": [
    "#### Answer:\n",
    "#### a) Ridge\n",
    "#### b) Lasso"
   ]
  },
  {
   "cell_type": "markdown",
   "metadata": {},
   "source": [
    "2) Which of the Lasso and Ridge regressions possess an analytic solution in the closed form?"
   ]
  },
  {
   "cell_type": "markdown",
   "metadata": {},
   "source": [
    "#### Answer:\n",
    "#### Ridge"
   ]
  },
  {
   "cell_type": "markdown",
   "metadata": {},
   "source": [
    "3) Which of the Lasso and Ridge regression is often use to completely eliminate coefficients for some of the regressors?"
   ]
  },
  {
   "cell_type": "markdown",
   "metadata": {},
   "source": [
    "#### Answer:\n",
    "#### Lasso"
   ]
  },
  {
   "cell_type": "markdown",
   "metadata": {},
   "source": [
    "4) Which value of $\\lambda$ makes Lasso and Ridge identical to the ordinary least square regression?"
   ]
  },
  {
   "cell_type": "markdown",
   "metadata": {},
   "source": [
    "#### Answer:\n",
    "$\\lambda$ = 0"
   ]
  },
  {
   "cell_type": "markdown",
   "metadata": {},
   "source": [
    "5) What dataset (training, validation or test) you would use to estimate the $\\lambda$ for Lasso or Ridge?"
   ]
  },
  {
   "cell_type": "markdown",
   "metadata": {},
   "source": [
    "#### Answer:\n",
    "Validation"
   ]
  },
  {
   "cell_type": "markdown",
   "metadata": {},
   "source": [
    "# Extra Credit(50 pts to be applied towards this or any other homework)\n",
    "For a regression where the variables are highly correlated, which would you use, Lasso or Ridge and why?"
   ]
  },
  {
   "cell_type": "markdown",
   "metadata": {},
   "source": [
    "#### Answer:\n",
    "#### They both can be used for addressing highly correlatied problem. I will use them in different circumstances.\n",
    "#### I will use Lasso in most of the cases because 1) it can provide sparse solutions, which delimilate highly correlated variables. 2) especially for big data, less variables will increase the computing speed.\n",
    "#### If I just want to address the overfitting issues but don't want to delete my variables (e.g. when doing polynomial regression), I will choose Ridge."
   ]
  },
  {
   "cell_type": "markdown",
   "metadata": {},
   "source": [
    "# Task 4 (15 pts). \n",
    "Consider a Bayesian univariate linear regression $y\\sim {\\cal N}(wx,\\sigma^2)$ with a given $\\sigma=2$ and the prior $w\\sim {\\cal N}(4,2)$. Compute the posterior distribution after an observation $y=14,x=4$. After all, what is the probability of having $w<4$?"
   ]
  },
  {
   "cell_type": "code",
   "execution_count": 2,
   "metadata": {},
   "outputs": [],
   "source": [
    "RE11s = 2\n",
    "RE11w = 4\n",
    "y = 14\n",
    "x = 4"
   ]
  },
  {
   "cell_type": "code",
   "execution_count": 3,
   "metadata": {},
   "outputs": [
    {
     "name": "stdout",
     "output_type": "stream",
     "text": [
      "w ~ N(3.5294117647058822,0.48507125007266594)\n"
     ]
    }
   ],
   "source": [
    "s22=2**-2; s12=RE11s**-2\n",
    "RE12w=(s22*y*x+s12*RE11w)/(s22*x**2+s12)\n",
    "RE12s=(s22*x**2+s12)**(-0.5)\n",
    "print('w ~ N({0},{1})'.format(RE12w,RE12s))"
   ]
  },
  {
   "cell_type": "code",
   "execution_count": 4,
   "metadata": {},
   "outputs": [
    {
     "name": "stdout",
     "output_type": "stream",
     "text": [
      "The probability of X < 4 is 0.834\n"
     ]
    }
   ],
   "source": [
    "prob4 = stats.norm.cdf((4 - RE12w)/RE12s)\n",
    "print ('The probability of X < 4 is {:.3f}'.format(prob4))"
   ]
  },
  {
   "cell_type": "markdown",
   "metadata": {},
   "source": [
    "# Task 5 (20 pts)\n",
    "For the training and test sets provided below, train a linear regression of $y$ (last column) vs the rest of the columns of the table treated as regressors (intercept excluded) over the training set, apply it to the test set and report it's R2 performance over both - training and test set."
   ]
  },
  {
   "cell_type": "code",
   "execution_count": 5,
   "metadata": {},
   "outputs": [],
   "source": [
    "data_train=pd.read_csv(\"HW_train.csv\")\n",
    "data_test=pd.read_csv(\"HW_test.csv\")\n",
    "\n",
    "# Remove unwanted column\n",
    "data_train.drop('Unnamed: 0',axis=1, inplace=True)\n",
    "data_test.drop('Unnamed: 0',axis=1, inplace=True)"
   ]
  },
  {
   "cell_type": "code",
   "execution_count": 6,
   "metadata": {},
   "outputs": [
    {
     "data": {
      "text/html": [
       "<div>\n",
       "<style scoped>\n",
       "    .dataframe tbody tr th:only-of-type {\n",
       "        vertical-align: middle;\n",
       "    }\n",
       "\n",
       "    .dataframe tbody tr th {\n",
       "        vertical-align: top;\n",
       "    }\n",
       "\n",
       "    .dataframe thead th {\n",
       "        text-align: right;\n",
       "    }\n",
       "</style>\n",
       "<table border=\"1\" class=\"dataframe\">\n",
       "  <thead>\n",
       "    <tr style=\"text-align: right;\">\n",
       "      <th></th>\n",
       "      <th>0</th>\n",
       "      <th>1</th>\n",
       "      <th>2</th>\n",
       "      <th>3</th>\n",
       "      <th>4</th>\n",
       "      <th>5</th>\n",
       "      <th>6</th>\n",
       "      <th>7</th>\n",
       "      <th>8</th>\n",
       "      <th>9</th>\n",
       "      <th>...</th>\n",
       "      <th>31</th>\n",
       "      <th>32</th>\n",
       "      <th>33</th>\n",
       "      <th>34</th>\n",
       "      <th>35</th>\n",
       "      <th>36</th>\n",
       "      <th>37</th>\n",
       "      <th>38</th>\n",
       "      <th>39</th>\n",
       "      <th>40</th>\n",
       "    </tr>\n",
       "  </thead>\n",
       "  <tbody>\n",
       "    <tr>\n",
       "      <th>0</th>\n",
       "      <td>96.789835</td>\n",
       "      <td>83.183133</td>\n",
       "      <td>24.177181</td>\n",
       "      <td>31.279398</td>\n",
       "      <td>-49.029524</td>\n",
       "      <td>18.872176</td>\n",
       "      <td>168.942794</td>\n",
       "      <td>94.488018</td>\n",
       "      <td>177.780409</td>\n",
       "      <td>27.695043</td>\n",
       "      <td>...</td>\n",
       "      <td>41.924134</td>\n",
       "      <td>65.876185</td>\n",
       "      <td>35.898562</td>\n",
       "      <td>34.726463</td>\n",
       "      <td>60.166744</td>\n",
       "      <td>22.004965</td>\n",
       "      <td>43.487052</td>\n",
       "      <td>60.069264</td>\n",
       "      <td>63.794491</td>\n",
       "      <td>65.691782</td>\n",
       "    </tr>\n",
       "    <tr>\n",
       "      <th>1</th>\n",
       "      <td>38.829317</td>\n",
       "      <td>35.843956</td>\n",
       "      <td>6.297793</td>\n",
       "      <td>15.523440</td>\n",
       "      <td>-21.995928</td>\n",
       "      <td>5.945662</td>\n",
       "      <td>72.037611</td>\n",
       "      <td>42.709207</td>\n",
       "      <td>75.362195</td>\n",
       "      <td>10.284752</td>\n",
       "      <td>...</td>\n",
       "      <td>73.765030</td>\n",
       "      <td>47.088544</td>\n",
       "      <td>43.625197</td>\n",
       "      <td>1.265374</td>\n",
       "      <td>53.481250</td>\n",
       "      <td>61.989699</td>\n",
       "      <td>22.419371</td>\n",
       "      <td>72.934372</td>\n",
       "      <td>8.783550</td>\n",
       "      <td>48.600203</td>\n",
       "    </tr>\n",
       "    <tr>\n",
       "      <th>2</th>\n",
       "      <td>29.925224</td>\n",
       "      <td>25.328958</td>\n",
       "      <td>0.102627</td>\n",
       "      <td>10.403224</td>\n",
       "      <td>-16.379497</td>\n",
       "      <td>4.272577</td>\n",
       "      <td>54.941945</td>\n",
       "      <td>33.758282</td>\n",
       "      <td>58.327999</td>\n",
       "      <td>5.344682</td>\n",
       "      <td>...</td>\n",
       "      <td>17.970740</td>\n",
       "      <td>28.483208</td>\n",
       "      <td>43.124356</td>\n",
       "      <td>75.088879</td>\n",
       "      <td>16.991777</td>\n",
       "      <td>3.603125</td>\n",
       "      <td>70.197916</td>\n",
       "      <td>45.761354</td>\n",
       "      <td>16.291789</td>\n",
       "      <td>11.967305</td>\n",
       "    </tr>\n",
       "    <tr>\n",
       "      <th>3</th>\n",
       "      <td>33.424303</td>\n",
       "      <td>27.676937</td>\n",
       "      <td>4.533496</td>\n",
       "      <td>12.010908</td>\n",
       "      <td>-18.159244</td>\n",
       "      <td>4.777495</td>\n",
       "      <td>54.333856</td>\n",
       "      <td>31.886517</td>\n",
       "      <td>61.607712</td>\n",
       "      <td>6.907591</td>\n",
       "      <td>...</td>\n",
       "      <td>97.752102</td>\n",
       "      <td>0.751484</td>\n",
       "      <td>20.599931</td>\n",
       "      <td>95.431639</td>\n",
       "      <td>30.861203</td>\n",
       "      <td>22.548684</td>\n",
       "      <td>93.988541</td>\n",
       "      <td>12.820426</td>\n",
       "      <td>47.022745</td>\n",
       "      <td>15.988018</td>\n",
       "    </tr>\n",
       "    <tr>\n",
       "      <th>4</th>\n",
       "      <td>69.816320</td>\n",
       "      <td>61.489566</td>\n",
       "      <td>17.181358</td>\n",
       "      <td>24.093144</td>\n",
       "      <td>-35.745184</td>\n",
       "      <td>13.386441</td>\n",
       "      <td>122.288929</td>\n",
       "      <td>68.878098</td>\n",
       "      <td>128.452555</td>\n",
       "      <td>18.808763</td>\n",
       "      <td>...</td>\n",
       "      <td>70.996612</td>\n",
       "      <td>86.602438</td>\n",
       "      <td>98.127347</td>\n",
       "      <td>5.357836</td>\n",
       "      <td>87.865145</td>\n",
       "      <td>40.298166</td>\n",
       "      <td>86.488322</td>\n",
       "      <td>60.963969</td>\n",
       "      <td>84.368874</td>\n",
       "      <td>53.736157</td>\n",
       "    </tr>\n",
       "  </tbody>\n",
       "</table>\n",
       "<p>5 rows × 41 columns</p>\n",
       "</div>"
      ],
      "text/plain": [
       "           0          1          2          3          4          5  \\\n",
       "0  96.789835  83.183133  24.177181  31.279398 -49.029524  18.872176   \n",
       "1  38.829317  35.843956   6.297793  15.523440 -21.995928   5.945662   \n",
       "2  29.925224  25.328958   0.102627  10.403224 -16.379497   4.272577   \n",
       "3  33.424303  27.676937   4.533496  12.010908 -18.159244   4.777495   \n",
       "4  69.816320  61.489566  17.181358  24.093144 -35.745184  13.386441   \n",
       "\n",
       "            6          7           8          9    ...             31  \\\n",
       "0  168.942794  94.488018  177.780409  27.695043    ...      41.924134   \n",
       "1   72.037611  42.709207   75.362195  10.284752    ...      73.765030   \n",
       "2   54.941945  33.758282   58.327999   5.344682    ...      17.970740   \n",
       "3   54.333856  31.886517   61.607712   6.907591    ...      97.752102   \n",
       "4  122.288929  68.878098  128.452555  18.808763    ...      70.996612   \n",
       "\n",
       "          32         33         34         35         36         37  \\\n",
       "0  65.876185  35.898562  34.726463  60.166744  22.004965  43.487052   \n",
       "1  47.088544  43.625197   1.265374  53.481250  61.989699  22.419371   \n",
       "2  28.483208  43.124356  75.088879  16.991777   3.603125  70.197916   \n",
       "3   0.751484  20.599931  95.431639  30.861203  22.548684  93.988541   \n",
       "4  86.602438  98.127347   5.357836  87.865145  40.298166  86.488322   \n",
       "\n",
       "          38         39         40  \n",
       "0  60.069264  63.794491  65.691782  \n",
       "1  72.934372   8.783550  48.600203  \n",
       "2  45.761354  16.291789  11.967305  \n",
       "3  12.820426  47.022745  15.988018  \n",
       "4  60.963969  84.368874  53.736157  \n",
       "\n",
       "[5 rows x 41 columns]"
      ]
     },
     "execution_count": 6,
     "metadata": {},
     "output_type": "execute_result"
    }
   ],
   "source": [
    "data_train.head()"
   ]
  },
  {
   "cell_type": "code",
   "execution_count": 7,
   "metadata": {},
   "outputs": [],
   "source": [
    "name = list(data_train.columns)\n",
    "newname = []\n",
    "for i,value in enumerate(name):\n",
    "    name[i] = 'x' + value\n",
    "    newname.append(name[i])\n",
    "newname = newname[:-1] + ['Y']"
   ]
  },
  {
   "cell_type": "code",
   "execution_count": 8,
   "metadata": {},
   "outputs": [],
   "source": [
    "data_train.columns = newname\n",
    "data_test.columns = newname"
   ]
  },
  {
   "cell_type": "code",
   "execution_count": 9,
   "metadata": {},
   "outputs": [
    {
     "data": {
      "text/html": [
       "<div>\n",
       "<style scoped>\n",
       "    .dataframe tbody tr th:only-of-type {\n",
       "        vertical-align: middle;\n",
       "    }\n",
       "\n",
       "    .dataframe tbody tr th {\n",
       "        vertical-align: top;\n",
       "    }\n",
       "\n",
       "    .dataframe thead th {\n",
       "        text-align: right;\n",
       "    }\n",
       "</style>\n",
       "<table border=\"1\" class=\"dataframe\">\n",
       "  <thead>\n",
       "    <tr style=\"text-align: right;\">\n",
       "      <th></th>\n",
       "      <th>x0</th>\n",
       "      <th>x1</th>\n",
       "      <th>x2</th>\n",
       "      <th>x3</th>\n",
       "      <th>x4</th>\n",
       "      <th>x5</th>\n",
       "      <th>x6</th>\n",
       "      <th>x7</th>\n",
       "      <th>x8</th>\n",
       "      <th>x9</th>\n",
       "      <th>...</th>\n",
       "      <th>x31</th>\n",
       "      <th>x32</th>\n",
       "      <th>x33</th>\n",
       "      <th>x34</th>\n",
       "      <th>x35</th>\n",
       "      <th>x36</th>\n",
       "      <th>x37</th>\n",
       "      <th>x38</th>\n",
       "      <th>x39</th>\n",
       "      <th>Y</th>\n",
       "    </tr>\n",
       "  </thead>\n",
       "  <tbody>\n",
       "    <tr>\n",
       "      <th>0</th>\n",
       "      <td>96.789835</td>\n",
       "      <td>83.183133</td>\n",
       "      <td>24.177181</td>\n",
       "      <td>31.279398</td>\n",
       "      <td>-49.029524</td>\n",
       "      <td>18.872176</td>\n",
       "      <td>168.942794</td>\n",
       "      <td>94.488018</td>\n",
       "      <td>177.780409</td>\n",
       "      <td>27.695043</td>\n",
       "      <td>...</td>\n",
       "      <td>41.924134</td>\n",
       "      <td>65.876185</td>\n",
       "      <td>35.898562</td>\n",
       "      <td>34.726463</td>\n",
       "      <td>60.166744</td>\n",
       "      <td>22.004965</td>\n",
       "      <td>43.487052</td>\n",
       "      <td>60.069264</td>\n",
       "      <td>63.794491</td>\n",
       "      <td>65.691782</td>\n",
       "    </tr>\n",
       "    <tr>\n",
       "      <th>1</th>\n",
       "      <td>38.829317</td>\n",
       "      <td>35.843956</td>\n",
       "      <td>6.297793</td>\n",
       "      <td>15.523440</td>\n",
       "      <td>-21.995928</td>\n",
       "      <td>5.945662</td>\n",
       "      <td>72.037611</td>\n",
       "      <td>42.709207</td>\n",
       "      <td>75.362195</td>\n",
       "      <td>10.284752</td>\n",
       "      <td>...</td>\n",
       "      <td>73.765030</td>\n",
       "      <td>47.088544</td>\n",
       "      <td>43.625197</td>\n",
       "      <td>1.265374</td>\n",
       "      <td>53.481250</td>\n",
       "      <td>61.989699</td>\n",
       "      <td>22.419371</td>\n",
       "      <td>72.934372</td>\n",
       "      <td>8.783550</td>\n",
       "      <td>48.600203</td>\n",
       "    </tr>\n",
       "    <tr>\n",
       "      <th>2</th>\n",
       "      <td>29.925224</td>\n",
       "      <td>25.328958</td>\n",
       "      <td>0.102627</td>\n",
       "      <td>10.403224</td>\n",
       "      <td>-16.379497</td>\n",
       "      <td>4.272577</td>\n",
       "      <td>54.941945</td>\n",
       "      <td>33.758282</td>\n",
       "      <td>58.327999</td>\n",
       "      <td>5.344682</td>\n",
       "      <td>...</td>\n",
       "      <td>17.970740</td>\n",
       "      <td>28.483208</td>\n",
       "      <td>43.124356</td>\n",
       "      <td>75.088879</td>\n",
       "      <td>16.991777</td>\n",
       "      <td>3.603125</td>\n",
       "      <td>70.197916</td>\n",
       "      <td>45.761354</td>\n",
       "      <td>16.291789</td>\n",
       "      <td>11.967305</td>\n",
       "    </tr>\n",
       "    <tr>\n",
       "      <th>3</th>\n",
       "      <td>33.424303</td>\n",
       "      <td>27.676937</td>\n",
       "      <td>4.533496</td>\n",
       "      <td>12.010908</td>\n",
       "      <td>-18.159244</td>\n",
       "      <td>4.777495</td>\n",
       "      <td>54.333856</td>\n",
       "      <td>31.886517</td>\n",
       "      <td>61.607712</td>\n",
       "      <td>6.907591</td>\n",
       "      <td>...</td>\n",
       "      <td>97.752102</td>\n",
       "      <td>0.751484</td>\n",
       "      <td>20.599931</td>\n",
       "      <td>95.431639</td>\n",
       "      <td>30.861203</td>\n",
       "      <td>22.548684</td>\n",
       "      <td>93.988541</td>\n",
       "      <td>12.820426</td>\n",
       "      <td>47.022745</td>\n",
       "      <td>15.988018</td>\n",
       "    </tr>\n",
       "    <tr>\n",
       "      <th>4</th>\n",
       "      <td>69.816320</td>\n",
       "      <td>61.489566</td>\n",
       "      <td>17.181358</td>\n",
       "      <td>24.093144</td>\n",
       "      <td>-35.745184</td>\n",
       "      <td>13.386441</td>\n",
       "      <td>122.288929</td>\n",
       "      <td>68.878098</td>\n",
       "      <td>128.452555</td>\n",
       "      <td>18.808763</td>\n",
       "      <td>...</td>\n",
       "      <td>70.996612</td>\n",
       "      <td>86.602438</td>\n",
       "      <td>98.127347</td>\n",
       "      <td>5.357836</td>\n",
       "      <td>87.865145</td>\n",
       "      <td>40.298166</td>\n",
       "      <td>86.488322</td>\n",
       "      <td>60.963969</td>\n",
       "      <td>84.368874</td>\n",
       "      <td>53.736157</td>\n",
       "    </tr>\n",
       "  </tbody>\n",
       "</table>\n",
       "<p>5 rows × 41 columns</p>\n",
       "</div>"
      ],
      "text/plain": [
       "          x0         x1         x2         x3         x4         x5  \\\n",
       "0  96.789835  83.183133  24.177181  31.279398 -49.029524  18.872176   \n",
       "1  38.829317  35.843956   6.297793  15.523440 -21.995928   5.945662   \n",
       "2  29.925224  25.328958   0.102627  10.403224 -16.379497   4.272577   \n",
       "3  33.424303  27.676937   4.533496  12.010908 -18.159244   4.777495   \n",
       "4  69.816320  61.489566  17.181358  24.093144 -35.745184  13.386441   \n",
       "\n",
       "           x6         x7          x8         x9    ...            x31  \\\n",
       "0  168.942794  94.488018  177.780409  27.695043    ...      41.924134   \n",
       "1   72.037611  42.709207   75.362195  10.284752    ...      73.765030   \n",
       "2   54.941945  33.758282   58.327999   5.344682    ...      17.970740   \n",
       "3   54.333856  31.886517   61.607712   6.907591    ...      97.752102   \n",
       "4  122.288929  68.878098  128.452555  18.808763    ...      70.996612   \n",
       "\n",
       "         x32        x33        x34        x35        x36        x37  \\\n",
       "0  65.876185  35.898562  34.726463  60.166744  22.004965  43.487052   \n",
       "1  47.088544  43.625197   1.265374  53.481250  61.989699  22.419371   \n",
       "2  28.483208  43.124356  75.088879  16.991777   3.603125  70.197916   \n",
       "3   0.751484  20.599931  95.431639  30.861203  22.548684  93.988541   \n",
       "4  86.602438  98.127347   5.357836  87.865145  40.298166  86.488322   \n",
       "\n",
       "         x38        x39          Y  \n",
       "0  60.069264  63.794491  65.691782  \n",
       "1  72.934372   8.783550  48.600203  \n",
       "2  45.761354  16.291789  11.967305  \n",
       "3  12.820426  47.022745  15.988018  \n",
       "4  60.963969  84.368874  53.736157  \n",
       "\n",
       "[5 rows x 41 columns]"
      ]
     },
     "execution_count": 9,
     "metadata": {},
     "output_type": "execute_result"
    }
   ],
   "source": [
    "data_train.head()"
   ]
  },
  {
   "cell_type": "code",
   "execution_count": 10,
   "metadata": {
    "scrolled": false
   },
   "outputs": [
    {
     "name": "stdout",
     "output_type": "stream",
     "text": [
      "                            OLS Regression Results                            \n",
      "==============================================================================\n",
      "Dep. Variable:                      Y   R-squared:                       1.000\n",
      "Model:                            OLS   Adj. R-squared:                    nan\n",
      "Method:                 Least Squares   F-statistic:                     0.000\n",
      "Date:                Tue, 28 Nov 2017   Prob (F-statistic):                nan\n",
      "Time:                        21:46:50   Log-Likelihood:                 838.99\n",
      "No. Observations:                  30   AIC:                            -1618.\n",
      "Df Residuals:                       0   BIC:                            -1576.\n",
      "Df Model:                          29                                         \n",
      "Covariance Type:            nonrobust                                         \n",
      "==============================================================================\n",
      "                 coef    std err          t      P>|t|      [0.025      0.975]\n",
      "------------------------------------------------------------------------------\n",
      "x0             2.3096        inf          0        nan         nan         nan\n",
      "x1             4.7149        inf          0        nan         nan         nan\n",
      "x2            -1.6055        inf         -0        nan         nan         nan\n",
      "x3            -0.9524        inf         -0        nan         nan         nan\n",
      "x4            -4.0177        inf         -0        nan         nan         nan\n",
      "x5            -0.2381        inf         -0        nan         nan         nan\n",
      "x6            -1.7561        inf         -0        nan         nan         nan\n",
      "x7            -2.1521        inf         -0        nan         nan         nan\n",
      "x8            -1.0249        inf         -0        nan         nan         nan\n",
      "x9            -0.4788        inf         -0        nan         nan         nan\n",
      "x10            2.3630        inf          0        nan         nan         nan\n",
      "x11            1.2229        inf          0        nan         nan         nan\n",
      "x12           -0.5476        inf         -0        nan         nan         nan\n",
      "x13            1.5707        inf          0        nan         nan         nan\n",
      "x14           -1.5827        inf         -0        nan         nan         nan\n",
      "x15           -2.1891        inf         -0        nan         nan         nan\n",
      "x16           -2.2518        inf         -0        nan         nan         nan\n",
      "x17           -2.2520        inf         -0        nan         nan         nan\n",
      "x18            0.0823        inf          0        nan         nan         nan\n",
      "x19           -2.0780        inf         -0        nan         nan         nan\n",
      "x20            1.4943        inf          0        nan         nan         nan\n",
      "x21            0.2153        inf          0        nan         nan         nan\n",
      "x22            0.0588        inf          0        nan         nan         nan\n",
      "x23            0.1163        inf          0        nan         nan         nan\n",
      "x24            0.1810        inf          0        nan         nan         nan\n",
      "x25            0.0800        inf          0        nan         nan         nan\n",
      "x26            0.0787        inf          0        nan         nan         nan\n",
      "x27           -0.2686        inf         -0        nan         nan         nan\n",
      "x28           -0.1350        inf         -0        nan         nan         nan\n",
      "x29           -0.0056        inf         -0        nan         nan         nan\n",
      "x30           -0.0301        inf         -0        nan         nan         nan\n",
      "x31           -0.0243        inf         -0        nan         nan         nan\n",
      "x32            0.1360        inf          0        nan         nan         nan\n",
      "x33           -0.0161        inf         -0        nan         nan         nan\n",
      "x34           -0.1550        inf         -0        nan         nan         nan\n",
      "x35           -0.1374        inf         -0        nan         nan         nan\n",
      "x36           -0.3347        inf         -0        nan         nan         nan\n",
      "x37            0.0179        inf          0        nan         nan         nan\n",
      "x38           -0.1415        inf         -0        nan         nan         nan\n",
      "x39           -0.0370        inf         -0        nan         nan         nan\n",
      "==============================================================================\n",
      "Omnibus:                        0.289   Durbin-Watson:                   1.965\n",
      "Prob(Omnibus):                  0.865   Jarque-Bera (JB):                0.471\n",
      "Skew:                           0.024   Prob(JB):                        0.790\n",
      "Kurtosis:                       2.388   Cond. No.                         925.\n",
      "==============================================================================\n",
      "\n",
      "Warnings:\n",
      "[1] Standard Errors assume that the covariance matrix of the errors is correctly specified.\n",
      "[2] The input rank is higher than the number of observations.\n"
     ]
    },
    {
     "name": "stderr",
     "output_type": "stream",
     "text": [
      "/Library/Frameworks/Python.framework/Versions/3.6/lib/python3.6/site-packages/statsmodels/regression/linear_model.py:1392: RuntimeWarning: divide by zero encountered in true_divide\n",
      "  return 1 - np.divide(self.nobs - self.k_constant, self.df_resid) * (1 - self.rsquared)\n",
      "/Library/Frameworks/Python.framework/Versions/3.6/lib/python3.6/site-packages/statsmodels/regression/linear_model.py:1392: RuntimeWarning: invalid value encountered in double_scalars\n",
      "  return 1 - np.divide(self.nobs - self.k_constant, self.df_resid) * (1 - self.rsquared)\n",
      "/Library/Frameworks/Python.framework/Versions/3.6/lib/python3.6/site-packages/statsmodels/regression/linear_model.py:1400: RuntimeWarning: divide by zero encountered in double_scalars\n",
      "  return self.ssr/self.df_resid\n",
      "/Library/Frameworks/Python.framework/Versions/3.6/lib/python3.6/site-packages/statsmodels/regression/linear_model.py:1353: RuntimeWarning: divide by zero encountered in double_scalars\n",
      "  return np.dot(wresid, wresid) / self.df_resid\n"
     ]
    }
   ],
   "source": [
    "result = smf.ols(formula = 'Y ~ '+ '+'.join(data_train.columns[:-1]+ '-1'), data = data_train).fit()\n",
    "OLS_coef=result.params\n",
    "print(result.summary())"
   ]
  },
  {
   "cell_type": "code",
   "execution_count": 11,
   "metadata": {},
   "outputs": [],
   "source": [
    "# An anonymous function that returns your regression model for future usage\n",
    "Regress = lambda feature: smf.ols(formula = 'Y ~ %s'%feature, data = data_train).fit()\n",
    "\n",
    "# For displaying R^2 and linear model summary\n",
    "def modelEval(lm, key = 'Y'):\n",
    "    lmy = lm.predict(data_test)\n",
    "    y_err = lmy - data_test[key]\n",
    "    y_norm = data_test[key]-np.mean(data_test[key])\n",
    "    return 1-y_err.dot(y_err)/y_norm.dot(y_norm)  # R2 w.r.t. test set"
   ]
  },
  {
   "cell_type": "code",
   "execution_count": 12,
   "metadata": {},
   "outputs": [
    {
     "name": "stdout",
     "output_type": "stream",
     "text": [
      "In sample R-squared: 1.000000\n",
      "Out of sample R-squared: -1.027964\n",
      "Fitted coefficients:\n",
      "x0     2.309618\n",
      "x1     4.714915\n",
      "x2    -1.605535\n",
      "x3    -0.952359\n",
      "x4    -4.017720\n",
      "x5    -0.238134\n",
      "x6    -1.756060\n",
      "x7    -2.152114\n",
      "x8    -1.024855\n",
      "x9    -0.478782\n",
      "x10    2.362976\n",
      "x11    1.222944\n",
      "x12   -0.547568\n",
      "x13    1.570712\n",
      "x14   -1.582677\n",
      "x15   -2.189135\n",
      "x16   -2.251809\n",
      "x17   -2.251971\n",
      "x18    0.082258\n",
      "x19   -2.077975\n",
      "x20    1.494313\n",
      "x21    0.215305\n",
      "x22    0.058794\n",
      "x23    0.116286\n",
      "x24    0.181049\n",
      "x25    0.079979\n",
      "x26    0.078714\n",
      "x27   -0.268590\n",
      "x28   -0.134989\n",
      "x29   -0.005605\n",
      "x30   -0.030090\n",
      "x31   -0.024276\n",
      "x32    0.135952\n",
      "x33   -0.016106\n",
      "x34   -0.155001\n",
      "x35   -0.137355\n",
      "x36   -0.334650\n",
      "x37    0.017861\n",
      "x38   -0.141513\n",
      "x39   -0.036982\n",
      "dtype: float64\n"
     ]
    }
   ],
   "source": [
    "print ('In sample R-squared: %f'%result.rsquared)\n",
    "print ('Out of sample R-squared: %f'%modelEval(result))\n",
    "print ('Fitted coefficients:')\n",
    "print (result.params)"
   ]
  },
  {
   "cell_type": "markdown",
   "metadata": {},
   "source": [
    "# Task 6 (20 pts)\n",
    "Train Lasso and Ridge regressions using the training sample above with $\\lambda_{Ridge}=3000$ and $\\lambda_{Lasso}=30$ and report their performance over the test set."
   ]
  },
  {
   "cell_type": "code",
   "execution_count": 13,
   "metadata": {},
   "outputs": [],
   "source": [
    "X_train = data_train.iloc[:, :-1]\n",
    "X_test = data_test.iloc[:, :-1]\n",
    "y_train = data_train.iloc[:, -1]\n",
    "y_test = data_test.iloc[:, -1]"
   ]
  },
  {
   "cell_type": "code",
   "execution_count": 14,
   "metadata": {},
   "outputs": [
    {
     "name": "stdout",
     "output_type": "stream",
     "text": [
      "The R-squared we found for IS Ridge is: 0.9183458259098473\n",
      "The R-squared we found for OS Ridge is: 0.5227726341237346\n"
     ]
    }
   ],
   "source": [
    "Ridge=linear_model.Ridge(fit_intercept=False, alpha=3000) #try Ridge with an arbitrary regularization parameter lambda=1\n",
    "\n",
    "Ridge.fit(X_train,y_train)\n",
    "# In the sample:\n",
    "p_IS=Ridge.predict(X_train)\n",
    "err_IS=p_IS-y_train\n",
    "R_2_IS_Ridge=1-np.var(err_IS)/np.var(y_train)\n",
    "print(\"The R-squared we found for IS Ridge is: {0}\".format(R_2_IS_Ridge))\n",
    "\n",
    "Ridge_coef=Ridge.coef_\n",
    "\n",
    "#Out of sample\n",
    "p_OS=Ridge.predict(X_test)\n",
    "err_OS=p_OS-y_test\n",
    "R_2_OS_Ridge=1-np.var(err_OS)/np.var(y_test)\n",
    "print(\"The R-squared we found for OS Ridge is: {0}\".format(R_2_OS_Ridge))"
   ]
  },
  {
   "cell_type": "code",
   "execution_count": 15,
   "metadata": {},
   "outputs": [
    {
     "name": "stdout",
     "output_type": "stream",
     "text": [
      "The R-squared we found for IS Lasso is: 0.9183458259098473\n",
      "The R-squared we found for OS Lasso is: 0.6480046820153793\n"
     ]
    }
   ],
   "source": [
    "Lasso=linear_model.Lasso(fit_intercept=True,alpha=30)\n",
    "#try Ridge with a selected regularization parameter lambda\n",
    "\n",
    "Lasso.fit(X_train,y_train)\n",
    "# In the sample:\n",
    "p_IS=Lasso.predict(X_train)\n",
    "err_IS=p_IS-y_train\n",
    "R_2_IS_Lasso=1-np.var(err_IS)/np.var(y_train)\n",
    "print(\"The R-squared we found for IS Lasso is: {0}\".format(R_2_IS_Ridge))\n",
    "\n",
    "Lasso_coef=Lasso.coef_\n",
    "#Out of sample\n",
    "p_OS=Lasso.predict(X_test)\n",
    "err_OS=p_OS-y_test\n",
    "R_2_OS_Lasso=1-np.var(err_OS)/np.var(y_test)\n",
    "print(\"The R-squared we found for OS Lasso is: {0}\".format(R_2_OS_Lasso))"
   ]
  },
  {
   "cell_type": "markdown",
   "metadata": {},
   "source": [
    "# Task 7 (25 pts)\n",
    "a) For each $m=0,1,2,...39$ train OLS, Lasso and Ridge regressions(keep intercept) using the data from Task 5 above with $\\lambda_{Ridge}=3000$ and $\\lambda_{Lasso}=30$ using the first $m$ columns of the data tables as the regressors  \n",
    "i.e train the models by adding in a new variable each time. eg. Y~ x0, Y~x0+x1, Y~x0+x1+x2...Y~x0+x1+...+x39  \n",
    "\n",
    "b) Plot the in-sample (training) and out-of-sample (test) R2 for all three models on the same graph.  \n",
    "i.e (x-axis is number of regressors, y will be your R^2 for InSample & OutSample for each of the 3 models, all in one graph)"
   ]
  },
  {
   "cell_type": "code",
   "execution_count": 16,
   "metadata": {},
   "outputs": [],
   "source": [
    "Number_variables=range(len(data_train.columns[:-1]))\n",
    "OLS_R_2_OS_F=[]\n",
    "OLS_R_2_IS_F=[]\n",
    "OLS_R_2_Ridge_OS_F=[]\n",
    "OLS_R_2_Ridge_IS_F=[]\n",
    "OLS_R_2_Lasso_OS_F=[]\n",
    "OLS_R_2_Lasso_IS_F=[]\n",
    "\n",
    "Ridge=linear_model.Ridge(fit_intercept=True, alpha=3000)\n",
    "Lasso=linear_model.Lasso(fit_intercept=True, alpha=30)\n",
    "\n",
    "for j in Number_variables:\n",
    "    # OLS\n",
    "    lm = smf.ols(formula = 'Y ~ '+ '+'.join(data_train.columns[:j+1]), \n",
    "                 data = pd.concat([X_train.iloc[:,:j+1],y_train], axis = 1)).fit()\n",
    "    error = lm.predict(X_test.iloc[:,:j+1]) - y_test\n",
    "    R_2_OS_OLS=1-error.var()/y_test.var()\n",
    "    R_2_IS_OLS = lm.rsquared\n",
    "    OLS_R_2_IS_F.append(R_2_IS_OLS)\n",
    "    OLS_R_2_OS_F.append(max(R_2_OS_OLS,0))\n",
    "    \n",
    "    # Ridge\n",
    "    Ridge.fit(X_train.iloc[:,:j+1],y_train)\n",
    "    \n",
    "    # In sample:\n",
    "    err_IS=Ridge.predict(X_train.iloc[:,:j+1]) - y_train\n",
    "    R_2_IS_Ridge=1-np.var(err_IS)/np.var(y_train)\n",
    "    OLS_R_2_Ridge_IS_F.append(R_2_IS_Ridge)\n",
    "    \n",
    "    #Out of sample\n",
    "    err_OS=Ridge.predict(X_test.iloc[:,:j+1]) - y_test\n",
    "    R_2_OS_Ridge=1-np.var(err_OS)/np.var(y_test)\n",
    "    OLS_R_2_Ridge_OS_F.append(max(R_2_OS_Ridge,0))\n",
    "\n",
    "    # Lasso\n",
    "    \n",
    "    Lasso.fit(X_train.iloc[:,0:j+1],y_train)\n",
    "    \n",
    "    #In sample:\n",
    "    p_IS=Lasso.predict(X_train.iloc[:,0:j+1])\n",
    "    err_IS=p_IS-y_train\n",
    "    R_2_IS_Lasso=1-np.var(err_IS)/np.var(y_train)\n",
    "    OLS_R_2_Lasso_IS_F.append(R_2_IS_Lasso)\n",
    "\n",
    "    #Out of sample\n",
    "    p_OS=Lasso.predict(X_test.iloc[:,0:j+1])\n",
    "    err_OS=p_OS-y_test\n",
    "    R_2_OS_Lasso=1-np.var(err_OS)/np.var(y_test)\n",
    "    OLS_R_2_Lasso_OS_F.append(max(R_2_OS_Lasso,0))"
   ]
  },
  {
   "cell_type": "code",
   "execution_count": 17,
   "metadata": {},
   "outputs": [
    {
     "data": {
      "image/png": "[encoded data removed]",
      "text/plain": [
       "<matplotlib.figure.Figure at 0x10b0ba780>"
      ]
     },
     "metadata": {},
     "output_type": "display_data"
    }
   ],
   "source": [
    "plt.title('OS performance of OLS when we subsequently add variables')\n",
    "\n",
    "plt.plot(Number_variables,OLS_R_2_IS_F,'g',label='OLS_IS')\n",
    "plt.plot(Number_variables,OLS_R_2_Lasso_IS_F,'y',label='Lasso_IS')\n",
    "plt.plot(Number_variables,OLS_R_2_Ridge_IS_F,'k',label='Ridge_IS')\n",
    "\n",
    "plt.plot(Number_variables,OLS_R_2_OS_F,'b',label='OLS_OS')\n",
    "plt.plot(Number_variables,OLS_R_2_Lasso_OS_F,'c',label='Lasso_OS')\n",
    "plt.plot(Number_variables,OLS_R_2_Ridge_OS_F,'r',label='Ridge_OS')\n",
    "\n",
    "plt.legend(loc='lower right')\n",
    "plt.xlabel('Number of independent variables')\n",
    "plt.ylabel('R-squared')\n",
    "plt.show()"
   ]
  },
  {
   "cell_type": "markdown",
   "metadata": {},
   "source": [
    "# Extracredit (100 pts of credit to be applied towards this or any other homework)\n",
    "Using a series of 10 random splits (cross-validation) of the training sample into approximately 70% training and 30% validation samples perform the selection of the optimal $\\lambda$ for Ridge and Lasso regression:   \n",
    "\n",
    "a) For each $\\lambda$ of an assumed sequence of $\\lambda$'s(take a random range) compute validation R2 for all the 10 splits and finally select the $\\lambda$ having the highest value for validation R2 for each split.  \n",
    "\n",
    "b) Visualize the dependence of the validation R2 over $\\lambda$s for Lasso and Ridge(x-axis = $\\lambda$s from sequence, y-axis = corresponding R^2, graph for each split)"
   ]
  },
  {
   "cell_type": "code",
   "execution_count": 18,
   "metadata": {},
   "outputs": [],
   "source": [
    "#Find the Alpha and report best test performance for Ridge/Lasso.\n",
    "def Regularization_fit_lambda(model,X_train,y_train,lambdas,p=0.3,Graph=False, logl=False):\n",
    "    #model = 1-Ridge, 2-Lasso\n",
    "    #lambdas: a list of lambda values to try\n",
    "    #p: ratio of the validation sample size / total training size\n",
    "    #Graph: plot the graph of R^2 values for different lambda\n",
    "\n",
    "    R_2_OS=[]\n",
    "    X_train0, X_valid, y_train0, y_valid = train_test_split(X_train,\n",
    "                                    y_train, test_size = 0.3, random_state = 200)\n",
    "\n",
    "    if model==1:\n",
    "        RM = lambda a: linear_model.Ridge(fit_intercept=True, alpha=a)\n",
    "        model_label='Ridge'\n",
    "    else:\n",
    "        RM = lambda a: linear_model.Lasso(fit_intercept=True, alpha=a)\n",
    "        model_label='Lasso'\n",
    "    \n",
    "    best_R2 = -1\n",
    "    best_lambda = lambdas[0]\n",
    "    \n",
    "    for i in lambdas:\n",
    "        lm = RM(i)\n",
    "        lm.fit(X_train0,y_train0)  #fit the regularization model\n",
    "        y_predict=lm.predict(X_valid) #compute the prediction for the validation sample \n",
    "        err_OS=y_predict-y_valid\n",
    "        R_2_OS_=1-np.var(err_OS)/np.var(y_valid)\n",
    "        R_2_OS.append(R_2_OS_)\n",
    "        if R_2_OS_ > best_R2:\n",
    "            best_R2 = R_2_OS_\n",
    "            best_lambda = i\n",
    "    \n",
    "    if Graph==True:\n",
    "        plt.title('IS R-squared vs OS-R-squared for different Lambda')\n",
    "        if logl:\n",
    "            plt.xlabel('ln(Lambda)')\n",
    "            l=log(lambdas)\n",
    "            bl=log(best_lambda)\n",
    "        else:\n",
    "            plt.xlabel('Lambda')\n",
    "            l=lambdas\n",
    "            bl=best_lambda\n",
    "        plt.plot(l,R_2_OS,'b',label=model_label)\n",
    "        plt.legend(loc='upper right')\n",
    "        plt.ylabel('R-squared')\n",
    "        plt.axvline(bl,color='r',linestyle='--')\n",
    "\n",
    "        plt.show()\n",
    "    \n",
    "    return best_lambda"
   ]
  },
  {
   "cell_type": "code",
   "execution_count": 19,
   "metadata": {},
   "outputs": [
    {
     "data": {
      "image/png": "[encoded data removed]",
      "text/plain": [
       "<matplotlib.figure.Figure at 0x10b08ac50>"
      ]
     },
     "metadata": {},
     "output_type": "display_data"
    },
    {
     "name": "stdout",
     "output_type": "stream",
     "text": [
      "Optimal lambda for Ridge=34352.993622812515\n"
     ]
    }
   ],
   "source": [
    "#select best lambda for Ridge\n",
    "lambdas = np.exp(np.linspace(-10,13,10))\n",
    "lambda_r_optimal=Regularization_fit_lambda(1,X_train,y_train,lambdas,p=0.3,Graph=True)\n",
    "print('Optimal lambda for Ridge={0}'.format(lambda_r_optimal))"
   ]
  },
  {
   "cell_type": "code",
   "execution_count": 20,
   "metadata": {},
   "outputs": [
    {
     "name": "stderr",
     "output_type": "stream",
     "text": [
      "/Library/Frameworks/Python.framework/Versions/3.6/lib/python3.6/site-packages/sklearn/linear_model/coordinate_descent.py:491: ConvergenceWarning: Objective did not converge. You might want to increase the number of iterations. Fitting data with very small alpha may cause precision problems.\n",
      "  ConvergenceWarning)\n"
     ]
    },
    {
     "data": {
      "image/png": "[encoded data removed]",
      "text/plain": [
       "<matplotlib.figure.Figure at 0x10b1b8be0>"
      ]
     },
     "metadata": {},
     "output_type": "display_data"
    },
    {
     "name": "stdout",
     "output_type": "stream",
     "text": [
      "Optimal lambda for Lasso=76.19785657297057\n"
     ]
    }
   ],
   "source": [
    "#select lambdas for Lasso \n",
    "lambdas=np.exp(np.linspace(0,6.5,10))\n",
    "lambda_l_optimal=Regularization_fit_lambda(2,X_train,y_train,lambdas,p=0.3,Graph=True)\n",
    "print('Optimal lambda for Lasso={0}'.format(lambda_l_optimal))"
   ]
  },
  {
   "cell_type": "markdown",
   "metadata": {},
   "source": [
    "c) Report the R2 computed over the test set for the Lasso and Ridge trained over the entire training set with the selected optimal values of $\\lambda$ out of the 10 splits."
   ]
  },
  {
   "cell_type": "code",
   "execution_count": 21,
   "metadata": {},
   "outputs": [
    {
     "name": "stdout",
     "output_type": "stream",
     "text": [
      "The R-squared we found for IS Ridge is: 0.8586967432011238\n",
      "The R-squared we found for OS Ridge is: 0.6860583846219623\n"
     ]
    }
   ],
   "source": [
    "Ridge=linear_model.Ridge(fit_intercept=False, alpha=lambda_r_optimal) #try Ridge with an arbitrary regularization parameter lambda=1\n",
    "\n",
    "Ridge.fit(X_train,y_train)\n",
    "# In the sample:\n",
    "p_IS=Ridge.predict(X_train)\n",
    "err_IS=p_IS-y_train\n",
    "R_2_IS_Ridge=1-np.var(err_IS)/np.var(y_train)\n",
    "print(\"The R-squared we found for IS Ridge is: {0}\".format(R_2_IS_Ridge))\n",
    "\n",
    "Ridge_coef=Ridge.coef_\n",
    "\n",
    "#Out of sample\n",
    "p_OS=Ridge.predict(X_test)\n",
    "err_OS=p_OS-y_test\n",
    "R_2_OS_Ridge=1-np.var(err_OS)/np.var(y_test)\n",
    "print(\"The R-squared we found for OS Ridge is: {0}\".format(R_2_OS_Ridge))"
   ]
  },
  {
   "cell_type": "code",
   "execution_count": 22,
   "metadata": {},
   "outputs": [
    {
     "name": "stdout",
     "output_type": "stream",
     "text": [
      "The R-squared we found for IS Lasso is: 0.8586967432011238\n",
      "The R-squared we found for OS Lasso is: 0.7405962443764158\n"
     ]
    }
   ],
   "source": [
    "Lasso=linear_model.Lasso(fit_intercept=True,alpha=lambda_l_optimal)\n",
    "#try Ridge with a selected regularization parameter lambda\n",
    "\n",
    "Lasso.fit(X_train,y_train)\n",
    "# In the sample:\n",
    "p_IS=Lasso.predict(X_train)\n",
    "err_IS=p_IS-y_train\n",
    "R_2_IS_Lasso=1-np.var(err_IS)/np.var(y_train)\n",
    "print(\"The R-squared we found for IS Lasso is: {0}\".format(R_2_IS_Ridge))\n",
    "\n",
    "Lasso_coef=Lasso.coef_\n",
    "#Out of sample\n",
    "p_OS=Lasso.predict(X_test)\n",
    "err_OS=p_OS-y_test\n",
    "R_2_OS_Lasso=1-np.var(err_OS)/np.var(y_test)\n",
    "print(\"The R-squared we found for OS Lasso is: {0}\".format(R_2_OS_Lasso))"
   ]
  }
 ],
 "metadata": {
  "kernelspec": {
   "display_name": "Python 3",
   "language": "python",
   "name": "python3"
  },
  "language_info": {
   "codemirror_mode": {
    "name": "ipython",
    "version": 3
   },
   "file_extension": ".py",
   "mimetype": "text/x-python",
   "name": "python",
   "nbconvert_exporter": "python",
   "pygments_lexer": "ipython3",
   "version": "3.6.1"
  }
 },
 "nbformat": 4,
 "nbformat_minor": 2
}
